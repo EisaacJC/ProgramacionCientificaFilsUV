{
 "cells": [
  {
   "cell_type": "code",
   "execution_count": 60,
   "id": "a81d395e-fec4-48d3-9f2c-6eb0215cffed",
   "metadata": {
    "jupyter": {
     "source_hidden": true
    },
    "tags": [
     "hide_cell"
    ]
   },
   "outputs": [
    {
     "data": {
      "text/markdown": [
       "# Clase_W7\n",
       "### htapia\n"
      ],
      "text/plain": [
       "<IPython.core.display.Markdown object>"
      ]
     },
     "metadata": {},
     "output_type": "display_data"
    },
    {
     "name": "stdout",
     "output_type": "stream",
     "text": [
      "22/03/2023 12:37:25\n"
     ]
    }
   ],
   "source": [
    "str='''# Clase_W7\n",
    "### htapia\n",
    "'''\n",
    "\n",
    "from os.path import expanduser\n",
    "who=expanduser('~')\n",
    "from IPython.display import display, Markdown, Image\n",
    "from datetime import datetime\n",
    "now = datetime.now()\n",
    "\n",
    "display(Markdown(str))\n",
    "print(now.strftime(\"%d/%m/%Y %H:%M:%S\"))\n",
    "\n",
    "from vpython import *"
   ]
  },
  {
   "cell_type": "markdown",
   "id": "d445df86-e4e9-493c-9ba4-12c6a27fa817",
   "metadata": {
    "tags": []
   },
   "source": [
    "| Semana     | 7(20-22 mar) |\n",
    "|------------|----------------|\n",
    "| Lunes      | **Feriado** |\n",
    "| Martes     | Tiro parabolico en 2D  |\n",
    "| Miercoles  | Ejercicios con tiro parabolico en 2D|\n",
    "\n",
    "## Objetivos generales\n",
    "Estudiar tiro parabolico en dos dimensiones\n",
    "\n",
    "## Objetivos especificos\n",
    "- Modificar la simulacion de caida libre para simular tiro parabolico en dos dimensiones\n",
    "- Graficar posiciones y velocidades dentro del ambiente de simulacion\n",
    "- Extraer datos al lenguaje de programacion para procesarlos"
   ]
  },
  {
   "cell_type": "markdown",
   "id": "9828689e-edef-4ec0-954c-cf96786e4dd5",
   "metadata": {},
   "source": [
    "## Metodo numerico\n",
    "Metodo de integracion de Euler para la velocidad y la posicion\n",
    "\n",
    "### Descripcion de la implementacion\n",
    "Identica a las empleadas en semanas anteriores"
   ]
  },
  {
   "cell_type": "markdown",
   "id": "93b790c3-0cc2-469a-91dd-3e4fddda9009",
   "metadata": {},
   "source": [
    "## Listado de codigo\n",
    "El siguiente codigo simula tiro parabolico utilizando el modulo `vpython`\n",
    "\n",
    "### Incluir el codigo que se esta generando\n"
   ]
  },
  {
   "cell_type": "code",
   "execution_count": 72,
   "id": "493ced18-d9d9-42a3-a60f-57a280f8f680",
   "metadata": {
    "tags": []
   },
   "outputs": [
    {
     "data": {
      "text/html": [
       "<div id=\"glowscript\" class=\"glowscript\"></div>"
      ],
      "text/plain": [
       "<IPython.core.display.HTML object>"
      ]
     },
     "metadata": {},
     "output_type": "display_data"
    },
    {
     "data": {
      "application/javascript": [
       "if (typeof Jupyter !== \"undefined\") { window.__context = { glowscript_container: $(\"#glowscript\").removeAttr(\"id\")};}else{ element.textContent = ' ';}"
      ],
      "text/plain": [
       "<IPython.core.display.Javascript object>"
      ]
     },
     "metadata": {},
     "output_type": "display_data"
    }
   ],
   "source": [
    "# codigo de vpython si lo tienen localmente instalado pueden ejecutarlo\n",
    "from vpython import *\n",
    "\n",
    "scene = canvas(title='''Introduccion a la simulacion de objetos fisicos.\n",
    "Tiro parabolico: aceleracion uniforme cerca de la superficie de la Tierra''')\n",
    "scene.background=color.black\n",
    "g1 = graph(xtitle='t[s]', ytitle='y[m]', width=500, height=150)\n",
    "fp = gcurve(color=color.blue)\n",
    "\n",
    "g2 = graph(xtitle='t[s]', ytitle='vy[m/s]', width=500, height=150)\n",
    "fv = gcurve(color=color.red)\n",
    "\n",
    "h = 20\n",
    "r = 0.5\n",
    "g = 9.81 \n",
    "tc = sqrt(2*h/g)\n",
    "vx=5\n",
    "vy=0\n",
    "\n",
    "masa = sphere(pos=vector(0,h,0), radius=r, color=color.yellow, make_trail=True, trail_type='points', interval=10, retain=10)\n",
    "piso = box(pos=vector(0,0-r,0),size=vector(14,0.2,4),color=color.white)\n",
    "\n",
    "t = 0\n",
    "dt = 0.01\n",
    "masa.a = vector(0,-g,0)\n",
    "masa.v = vector(vx,vy,0)\n",
    "masa.pos = masa.pos + masa.v*dt\n",
    "\n",
    "while(t<2*tc):\n",
    "    rate(100)\n",
    "    # check collision with floor\n",
    "    if masa.pos.y < piso.pos.y + 0.5*masa.radius:\n",
    "        masa.v.y = -masa.v.y\n",
    "    # update velocity\n",
    "    masa.v = masa.v + masa.a*dt\n",
    "    # update position\n",
    "    masa.pos = masa.pos + masa.v*dt\n",
    "    # plot handle\n",
    "    fp.plot(t, masa.pos.y)\n",
    "    fv.plot(t, masa.v.y)\n",
    "    # update time\n",
    "    t = t+dt"
   ]
  },
  {
   "cell_type": "code",
   "execution_count": 76,
   "id": "5408d267-af94-4cf3-98de-8e3f1e3c0aef",
   "metadata": {},
   "outputs": [
    {
     "data": {
      "text/plain": [
       "1.0"
      ]
     },
     "execution_count": 76,
     "metadata": {},
     "output_type": "execute_result"
    }
   ],
   "source": [
    "masa."
   ]
  },
  {
   "cell_type": "markdown",
   "id": "c2f0247e-0431-4f3a-9fd5-51d9c521a2de",
   "metadata": {},
   "source": [
    "## Visualizacion de los resultados\n",
    "### Incluir imagenes, graficas y demas recursos de visualizacion \n",
    "\n",
    "La siguiente celda toma una captura de la escena la guarda y la cambia de directorio para despues mostrarla."
   ]
  },
  {
   "cell_type": "code",
   "execution_count": 61,
   "id": "f3171756-b2a3-4858-a6f0-6218f1363eb9",
   "metadata": {},
   "outputs": [
    {
     "name": "stdout",
     "output_type": "stream",
     "text": [
      "        1 file(s) moved.\n"
     ]
    }
   ],
   "source": [
    "fn=\"TiroParabolico\"\n",
    "fp = ''.join((who,'\\Downloads','\\\\',fn,'.png'))\n",
    "scene.capture(fn)\n",
    "!move {fp} %cd%\n",
    "Image(''.join((fn,'.png')))"
   ]
  },
  {
   "cell_type": "markdown",
   "id": "f1235d1b-c0a3-47fd-ae15-f48236c42c8a",
   "metadata": {
    "tags": []
   },
   "source": [
    "## Discusion\n",
    "El tiro parabolico en dos dimensiones se obtiene directamente de caida librea cmbiando las condiciones inciales.\n",
    "\n",
    "\n"
   ]
  },
  {
   "cell_type": "markdown",
   "id": "f01f46b3-4957-41ce-ae93-725923dac5c7",
   "metadata": {
    "tags": []
   },
   "source": [
    "## Critica\n",
    "El codigo anterior se generalizo de manera simple a partir del codigo construido para el objeto en caida libre simplemente modificando las condiciones iniciales de la velocidad. Sin embargo tal y como esta planteado estamos a merced del marco de trabajo del simulador. Seria conveniente poder extraer los datos de simulacion de manera  efectiva para poder procesarlos usando el lenguaje de progamacion. Una forma simple de hacerlo es repitiendo el codigo unicamente considerando los elementeos de la simulacion, es decir ignorar los componentes graficos."
   ]
  },
  {
   "cell_type": "code",
   "execution_count": 115,
   "id": "ecf277a1-d0f4-42af-ae44-7635c91dd446",
   "metadata": {},
   "outputs": [
    {
     "data": {
      "text/html": [
       "<div id=\"glowscript\" class=\"glowscript\"></div>"
      ],
      "text/plain": [
       "<IPython.core.display.HTML object>"
      ]
     },
     "metadata": {},
     "output_type": "display_data"
    },
    {
     "data": {
      "application/javascript": [
       "if (typeof Jupyter !== \"undefined\") { window.__context = { glowscript_container: $(\"#glowscript\").removeAttr(\"id\")};}else{ element.textContent = ' ';}"
      ],
      "text/plain": [
       "<IPython.core.display.Javascript object>"
      ]
     },
     "metadata": {},
     "output_type": "display_data"
    },
    {
     "name": "stdout",
     "output_type": "stream",
     "text": [
      "[]\n",
      "[[0, <0, 20, 0>, <5, 0, 0>]]\n",
      "<0.05, 19.999, 0>\n",
      "<0.1, 19.9971, 0>\n",
      "<0.15, 19.9941, 0>\n",
      "<0.2, 19.9902, 0>\n",
      "<0.25, 19.9853, 0>\n",
      "<0.3, 19.9794, 0>\n",
      "<0.35, 19.9725, 0>\n",
      "<0.4, 19.9647, 0>\n",
      "<0.45, 19.9559, 0>\n",
      "<0.5, 19.946, 0>\n",
      "<0.55, 19.9353, 0>\n",
      "<0.6, 19.9235, 0>\n",
      "<0.65, 19.9107, 0>\n",
      "<0.7, 19.897, 0>\n",
      "<0.75, 19.8823, 0>\n",
      "<0.8, 19.8666, 0>\n",
      "<0.85, 19.8499, 0>\n",
      "<0.9, 19.8322, 0>\n",
      "<0.95, 19.8136, 0>\n",
      "<1, 19.794, 0>\n",
      "<1.05, 19.7734, 0>\n",
      "<1.1, 19.7518, 0>\n",
      "<1.15, 19.7292, 0>\n",
      "<1.2, 19.7057, 0>\n",
      "<1.25, 19.6812, 0>\n",
      "<1.3, 19.6557, 0>\n",
      "<1.35, 19.6292, 0>\n",
      "<1.4, 19.6017, 0>\n",
      "<1.45, 19.5733, 0>\n",
      "<1.5, 19.5438, 0>\n",
      "<1.55, 19.5134, 0>\n",
      "<1.6, 19.482, 0>\n",
      "<1.65, 19.4497, 0>\n",
      "<1.7, 19.4163, 0>\n",
      "<1.75, 19.382, 0>\n",
      "<1.8, 19.3467, 0>\n",
      "<1.85, 19.3104, 0>\n",
      "<1.9, 19.2731, 0>\n",
      "<1.95, 19.2348, 0>\n",
      "<2, 19.1956, 0>\n",
      "<2.05, 19.1554, 0>\n",
      "<2.1, 19.1142, 0>\n",
      "<2.15, 19.072, 0>\n",
      "<2.2, 19.0288, 0>\n",
      "<2.25, 18.9847, 0>\n",
      "<2.3, 18.9395, 0>\n",
      "<2.35, 18.8934, 0>\n",
      "<2.4, 18.8463, 0>\n",
      "<2.45, 18.7983, 0>\n",
      "<2.5, 18.7492, 0>\n",
      "<2.55, 18.6992, 0>\n",
      "<2.6, 18.6482, 0>\n",
      "<2.65, 18.5962, 0>\n",
      "<2.7, 18.5432, 0>\n",
      "<2.75, 18.4893, 0>\n",
      "<2.8, 18.4343, 0>\n",
      "<2.85, 18.3784, 0>\n",
      "<2.9, 18.3215, 0>\n",
      "<2.95, 18.2636, 0>\n",
      "<3, 18.2048, 0>\n",
      "<3.05, 18.1449, 0>\n",
      "<3.1, 18.0841, 0>\n",
      "<3.15, 18.0223, 0>\n",
      "<3.2, 17.9595, 0>\n",
      "<3.25, 17.8958, 0>\n",
      "<3.3, 17.831, 0>\n",
      "<3.35, 17.7653, 0>\n",
      "<3.4, 17.6986, 0>\n",
      "<3.45, 17.6309, 0>\n",
      "<3.5, 17.5622, 0>\n",
      "<3.55, 17.4926, 0>\n",
      "<3.6, 17.4219, 0>\n",
      "<3.65, 17.3503, 0>\n",
      "<3.7, 17.2777, 0>\n",
      "<3.75, 17.2042, 0>\n",
      "<3.8, 17.1296, 0>\n",
      "<3.85, 17.0541, 0>\n",
      "<3.9, 16.9775, 0>\n",
      "<3.95, 16.9, 0>\n",
      "<4, 16.8216, 0>\n",
      "<4.05, 16.7421, 0>\n",
      "<4.1, 16.6617, 0>\n",
      "<4.15, 16.5802, 0>\n",
      "<4.2, 16.4978, 0>\n",
      "<4.25, 16.4144, 0>\n",
      "<4.3, 16.3301, 0>\n",
      "<4.35, 16.2447, 0>\n",
      "<4.4, 16.1584, 0>\n",
      "<4.45, 16.0711, 0>\n",
      "<4.5, 15.9828, 0>\n",
      "<4.55, 15.8935, 0>\n",
      "<4.6, 15.8033, 0>\n",
      "<4.65, 15.712, 0>\n",
      "<4.7, 15.6198, 0>\n",
      "<4.75, 15.5266, 0>\n",
      "<4.8, 15.4325, 0>\n",
      "<4.85, 15.3373, 0>\n",
      "<4.9, 15.2412, 0>\n",
      "<4.95, 15.1441, 0>\n",
      "<5, 15.046, 0>\n",
      "<5.05, 14.9469, 0>\n",
      "<5.1, 14.8468, 0>\n",
      "<5.15, 14.7458, 0>\n",
      "<5.2, 14.6437, 0>\n",
      "<5.25, 14.5407, 0>\n",
      "<5.3, 14.4367, 0>\n",
      "<5.35, 14.3318, 0>\n",
      "<5.4, 14.2258, 0>\n",
      "<5.45, 14.1189, 0>\n",
      "<5.5, 14.011, 0>\n",
      "<5.55, 13.9021, 0>\n",
      "<5.6, 13.7922, 0>\n",
      "<5.65, 13.6814, 0>\n",
      "<5.7, 13.5695, 0>\n",
      "<5.75, 13.4567, 0>\n",
      "<5.8, 13.3429, 0>\n",
      "<5.85, 13.2282, 0>\n",
      "<5.9, 13.1124, 0>\n",
      "<5.95, 12.9957, 0>\n",
      "<6, 12.8779, 0>\n",
      "<6.05, 12.7592, 0>\n",
      "<6.1, 12.6396, 0>\n",
      "<6.15, 12.5189, 0>\n",
      "<6.2, 12.3973, 0>\n",
      "<6.25, 12.2746, 0>\n",
      "<6.3, 12.151, 0>\n",
      "<6.35, 12.0264, 0>\n",
      "<6.4, 11.9009, 0>\n",
      "<6.45, 11.7743, 0>\n",
      "<6.5, 11.6468, 0>\n",
      "<6.55, 11.5183, 0>\n",
      "<6.6, 11.3888, 0>\n",
      "<6.65, 11.2583, 0>\n",
      "<6.7, 11.1269, 0>\n",
      "<6.75, 10.9944, 0>\n",
      "<6.8, 10.861, 0>\n",
      "<6.85, 10.7266, 0>\n",
      "<6.9, 10.5912, 0>\n",
      "<6.95, 10.4549, 0>\n",
      "<7, 10.3175, 0>\n",
      "<7.05, 10.1792, 0>\n",
      "<7.1, 10.0399, 0>\n",
      "<7.15, 9.89962, 0>\n",
      "<7.2, 9.75836, 0>\n",
      "<7.25, 9.61611, 0>\n",
      "<7.3, 9.47289, 0>\n",
      "<7.35, 9.32868, 0>\n",
      "<7.4, 9.18349, 0>\n",
      "<7.45, 9.03732, 0>\n",
      "<7.5, 8.89017, 0>\n",
      "<7.55, 8.74204, 0>\n",
      "<7.6, 8.59293, 0>\n",
      "<7.65, 8.44284, 0>\n",
      "<7.7, 8.29176, 0>\n",
      "<7.75, 8.13971, 0>\n",
      "<7.8, 7.98667, 0>\n",
      "<7.85, 7.83266, 0>\n",
      "<7.9, 7.67766, 0>\n",
      "<7.95, 7.52168, 0>\n",
      "<8, 7.36472, 0>\n",
      "<8.05, 7.20678, 0>\n",
      "<8.1, 7.04786, 0>\n",
      "<8.15, 6.88795, 0>\n",
      "<8.2, 6.72707, 0>\n",
      "<8.25, 6.5652, 0>\n",
      "<8.3, 6.40236, 0>\n",
      "<8.35, 6.23853, 0>\n",
      "<8.4, 6.07372, 0>\n",
      "<8.45, 5.90793, 0>\n",
      "<8.5, 5.74116, 0>\n",
      "<8.55, 5.57341, 0>\n",
      "<8.6, 5.40468, 0>\n",
      "<8.65, 5.23497, 0>\n",
      "<8.7, 5.06427, 0>\n",
      "<8.75, 4.8926, 0>\n",
      "<8.8, 4.71994, 0>\n",
      "<8.85, 4.54631, 0>\n",
      "<8.9, 4.37169, 0>\n",
      "<8.95, 4.19609, 0>\n",
      "<9, 4.01951, 0>\n",
      "<9.05, 3.84195, 0>\n",
      "<9.1, 3.66341, 0>\n",
      "<9.15, 3.48388, 0>\n",
      "<9.2, 3.30338, 0>\n",
      "<9.25, 3.12189, 0>\n",
      "<9.3, 2.93943, 0>\n",
      "<9.35, 2.75598, 0>\n",
      "<9.4, 2.57155, 0>\n",
      "<9.45, 2.38614, 0>\n",
      "<9.5, 2.19975, 0>\n",
      "<9.55, 2.01238, 0>\n",
      "<9.6, 1.82403, 0>\n",
      "<9.65, 1.6347, 0>\n",
      "<9.7, 1.44438, 0>\n",
      "<9.75, 1.25309, 0>\n",
      "<9.8, 1.06081, 0>\n",
      "<9.85, 0.867557, 0>\n",
      "<9.9, 0.673319, 0>\n",
      "<9.95, 0.4781, 0>\n",
      "<10, 0.2819, 0>\n",
      "<10.05, 0.084719, 0>\n",
      "<10.1, -0.113443, 0>\n",
      "<10.15, -0.312586, 0>\n",
      "<10.2, -0.114424, 0>\n",
      "<10.25, 0.082757, 0>\n",
      "<10.3, 0.278957, 0>\n",
      "<10.35, 0.474176, 0>\n",
      "<10.4, 0.668414, 0>\n",
      "<10.45, 0.861671, 0>\n",
      "<10.5, 1.05395, 0>\n",
      "<10.55, 1.24524, 0>\n",
      "<10.6, 1.43556, 0>\n",
      "<10.65, 1.62489, 0>\n",
      "<10.7, 1.81324, 0>\n",
      "<10.75, 2.00061, 0>\n",
      "<10.8, 2.187, 0>\n",
      "<10.85, 2.37241, 0>\n",
      "<10.9, 2.55684, 0>\n",
      "<10.95, 2.74029, 0>\n",
      "<11, 2.92275, 0>\n",
      "<11.05, 3.10424, 0>\n",
      "<11.1, 3.28474, 0>\n",
      "<11.15, 3.46426, 0>\n",
      "<11.2, 3.64281, 0>\n",
      "<11.25, 3.82037, 0>\n",
      "<11.3, 3.99695, 0>\n",
      "<11.35, 4.17255, 0>\n",
      "<11.4, 4.34716, 0>\n",
      "<11.45, 4.5208, 0>\n",
      "<11.5, 4.69346, 0>\n",
      "<11.55, 4.86513, 0>\n",
      "<11.6, 5.03583, 0>\n",
      "<11.65, 5.20554, 0>\n",
      "<11.7, 5.37427, 0>\n",
      "<11.75, 5.54202, 0>\n",
      "<11.8, 5.70879, 0>\n",
      "<11.85, 5.87458, 0>\n",
      "<11.9, 6.03939, 0>\n",
      "<11.95, 6.20322, 0>\n",
      "<12, 6.36606, 0>\n",
      "<12.05, 6.52793, 0>\n",
      "<12.1, 6.68881, 0>\n",
      "<12.15, 6.84871, 0>\n",
      "<12.2, 7.00764, 0>\n",
      "<12.25, 7.16558, 0>\n",
      "<12.3, 7.32254, 0>\n",
      "<12.35, 7.47852, 0>\n",
      "<12.4, 7.63351, 0>\n",
      "<12.45, 7.78753, 0>\n",
      "<12.5, 7.94057, 0>\n",
      "<12.55, 8.09262, 0>\n",
      "<12.6, 8.2437, 0>\n",
      "<12.65, 8.39379, 0>\n",
      "<12.7, 8.5429, 0>\n",
      "<12.75, 8.69103, 0>\n",
      "<12.8, 8.83818, 0>\n",
      "<12.85, 8.98435, 0>\n",
      "<12.9, 9.12954, 0>\n",
      "<12.95, 9.27375, 0>\n",
      "<13, 9.41697, 0>\n",
      "<13.05, 9.55922, 0>\n",
      "<13.1, 9.70048, 0>\n",
      "<13.15, 9.84076, 0>\n",
      "<13.2, 9.98007, 0>\n",
      "<13.25, 10.1184, 0>\n",
      "<13.3, 10.2557, 0>\n",
      "<13.35, 10.3921, 0>\n",
      "<13.4, 10.5275, 0>\n",
      "<13.45, 10.6619, 0>\n",
      "<13.5, 10.7953, 0>\n",
      "<13.55, 10.9277, 0>\n",
      "<13.6, 11.0592, 0>\n",
      "<13.65, 11.1896, 0>\n",
      "<13.7, 11.3191, 0>\n",
      "<13.75, 11.4476, 0>\n",
      "<13.8, 11.5752, 0>\n",
      "<13.85, 11.7017, 0>\n",
      "<13.9, 11.8273, 0>\n",
      "<13.95, 11.9519, 0>\n",
      "<14, 12.0755, 0>\n",
      "<14.05, 12.1981, 0>\n",
      "<14.1, 12.3198, 0>\n",
      "<14.15, 12.4404, 0>\n",
      "<14.2, 12.5601, 0>\n",
      "<14.25, 12.6788, 0>\n",
      "<14.3, 12.7965, 0>\n",
      "<14.35, 12.9133, 0>\n",
      "<14.4, 13.029, 0>\n",
      "<14.45, 13.1438, 0>\n",
      "<14.5, 13.2576, 0>\n",
      "<14.55, 13.3704, 0>\n",
      "<14.6, 13.4822, 0>\n",
      "<14.65, 13.5931, 0>\n",
      "<14.7, 13.703, 0>\n",
      "<14.75, 13.8119, 0>\n",
      "<14.8, 13.9198, 0>\n",
      "<14.85, 14.0267, 0>\n",
      "<14.9, 14.1326, 0>\n",
      "<14.95, 14.2376, 0>\n",
      "<15, 14.3416, 0>\n",
      "<15.05, 14.4446, 0>\n",
      "<15.1, 14.5466, 0>\n",
      "<15.15, 14.6477, 0>\n",
      "<15.2, 14.7477, 0>\n",
      "<15.25, 14.8468, 0>\n",
      "<15.3, 14.9449, 0>\n",
      "<15.35, 15.042, 0>\n",
      "<15.4, 15.1382, 0>\n",
      "<15.45, 15.2333, 0>\n",
      "<15.5, 15.3275, 0>\n",
      "<15.55, 15.4207, 0>\n",
      "<15.6, 15.5129, 0>\n",
      "<15.65, 15.6041, 0>\n",
      "<15.7, 15.6944, 0>\n",
      "<15.75, 15.7837, 0>\n",
      "<15.8, 15.872, 0>\n",
      "<15.85, 15.9593, 0>\n",
      "<15.9, 16.0456, 0>\n",
      "<15.95, 16.1309, 0>\n",
      "<16, 16.2153, 0>\n",
      "<16.05, 16.2987, 0>\n",
      "<16.1, 16.3811, 0>\n",
      "<16.15, 16.4625, 0>\n",
      "<16.2, 16.543, 0>\n",
      "<16.25, 16.6224, 0>\n",
      "<16.3, 16.7009, 0>\n",
      "<16.35, 16.7784, 0>\n",
      "<16.4, 16.8549, 0>\n",
      "<16.45, 16.9305, 0>\n",
      "<16.5, 17.005, 0>\n",
      "<16.55, 17.0786, 0>\n",
      "<16.6, 17.1512, 0>\n",
      "<16.65, 17.2228, 0>\n",
      "<16.7, 17.2934, 0>\n",
      "<16.75, 17.3631, 0>\n",
      "<16.8, 17.4317, 0>\n",
      "<16.85, 17.4994, 0>\n",
      "<16.9, 17.5661, 0>\n",
      "<16.95, 17.6319, 0>\n",
      "<17, 17.6966, 0>\n",
      "<17.05, 17.7604, 0>\n",
      "<17.1, 17.8232, 0>\n",
      "<17.15, 17.885, 0>\n",
      "<17.2, 17.9458, 0>\n",
      "<17.25, 18.0056, 0>\n",
      "<17.3, 18.0645, 0>\n",
      "<17.35, 18.1224, 0>\n",
      "<17.4, 18.1793, 0>\n",
      "<17.45, 18.2352, 0>\n",
      "<17.5, 18.2901, 0>\n",
      "<17.55, 18.3441, 0>\n",
      "<17.6, 18.397, 0>\n",
      "<17.65, 18.449, 0>\n",
      "<17.7, 18.5001, 0>\n",
      "<17.75, 18.5501, 0>\n",
      "<17.8, 18.5991, 0>\n",
      "<17.85, 18.6472, 0>\n",
      "<17.9, 18.6943, 0>\n",
      "<17.95, 18.7404, 0>\n",
      "<18, 18.7855, 0>\n",
      "<18.05, 18.8297, 0>\n",
      "<18.1, 18.8728, 0>\n",
      "<18.15, 18.915, 0>\n",
      "<18.2, 18.9562, 0>\n",
      "<18.25, 18.9964, 0>\n",
      "<18.3, 19.0357, 0>\n",
      "<18.35, 19.0739, 0>\n",
      "<18.4, 19.1112, 0>\n",
      "<18.45, 19.1475, 0>\n",
      "<18.5, 19.1828, 0>\n",
      "<18.55, 19.2172, 0>\n",
      "<18.6, 19.2505, 0>\n",
      "<18.65, 19.2829, 0>\n",
      "<18.7, 19.3143, 0>\n",
      "<18.75, 19.3447, 0>\n",
      "<18.8, 19.3741, 0>\n",
      "<18.85, 19.4026, 0>\n",
      "<18.9, 19.43, 0>\n",
      "<18.95, 19.4565, 0>\n",
      "<19, 19.482, 0>\n",
      "<19.05, 19.5066, 0>\n",
      "<19.1, 19.5301, 0>\n",
      "<19.15, 19.5527, 0>\n",
      "<19.2, 19.5742, 0>\n",
      "<19.25, 19.5948, 0>\n",
      "<19.3, 19.6145, 0>\n",
      "<19.35, 19.6331, 0>\n",
      "<19.4, 19.6508, 0>\n",
      "<19.45, 19.6674, 0>\n",
      "<19.5, 19.6831, 0>\n",
      "<19.55, 19.6979, 0>\n",
      "<19.6, 19.7116, 0>\n",
      "<19.65, 19.7243, 0>\n",
      "<19.7, 19.7361, 0>\n",
      "<19.75, 19.7469, 0>\n",
      "<19.8, 19.7567, 0>\n",
      "<19.85, 19.7655, 0>\n",
      "<19.9, 19.7734, 0>\n",
      "<19.95, 19.7803, 0>\n",
      "<20, 19.7861, 0>\n",
      "<20.05, 19.791, 0>\n",
      "<20.1, 19.795, 0>\n",
      "<20.15, 19.7979, 0>\n",
      "<20.2, 19.7999, 0>\n"
     ]
    }
   ],
   "source": [
    "# let's modify the code as:\n",
    "scene = canvas(title='''Introduccion a la simulacion de objetos fisicos.\n",
    "Tiro parabolico: aceleracion uniforme cerca de la superficie de la Tierra''')\n",
    "scene.background=color.black\n",
    "\n",
    "h = 20\n",
    "r = 0.5\n",
    "g = 9.81 \n",
    "tc = sqrt(2*h/g)\n",
    "vx=5\n",
    "vy=0\n",
    "\n",
    "masa = sphere(pos=vector(0,h,0), radius=r, color=color.yellow, make_trail=True, trail_type='points', interval=10, retain=10)\n",
    "piso = box(pos=vector(0,0-r,0),size=vector(14,0.2,4),color=color.white)\n",
    "data=[]\n",
    "print(data)\n",
    "t = 0\n",
    "dt = 0.01\n",
    "masa.a = vector(0,-g,0)\n",
    "masa.v = vector(vx,vy,0)\n",
    "data.append([t, masa.pos, masa.v])\n",
    "print(data)\n",
    "\n",
    "while(t<2*tc):\n",
    "    rate(100)\n",
    "    # check collision with floor\n",
    "    if masa.pos.y < piso.pos.y + 0.5*masa.radius:\n",
    "        masa.v.y = -masa.v.y\n",
    "    # update velocity\n",
    "    masa.v = masa.v + masa.a*dt\n",
    "    # update position\n",
    "    masa.pos = masa.pos + masa.v*dt\n",
    "    # update time\n",
    "    t = t+dt\n",
    "    # data.append([t, masa.pos, masa.v])\n",
    "    print(masa.pos)"
   ]
  },
  {
   "cell_type": "code",
   "execution_count": 111,
   "id": "fdf22878-7318-49b7-9724-081eec119d70",
   "metadata": {},
   "outputs": [],
   "source": [
    "t=[d[0] for d in data]\n",
    "r=[d[1] for d in data]\n",
    "v=[d[2] for d in data]"
   ]
  },
  {
   "cell_type": "code",
   "execution_count": 112,
   "id": "942ceac1-70cc-4103-90e4-beddcd2aa757",
   "metadata": {},
   "outputs": [],
   "source": [
    "rx=[rv.x for rv in r]\n",
    "ry=[rv.y for rv in r]\n",
    "\n",
    "vx=[rv.x for rv in v]\n",
    "vy=[rv.y for rv in v]\n"
   ]
  },
  {
   "cell_type": "code",
   "execution_count": 84,
   "id": "d6208b34-57c4-4864-8b37-38bb9d4a2b59",
   "metadata": {},
   "outputs": [],
   "source": [
    "import matplotlib.pyplot as plt"
   ]
  },
  {
   "cell_type": "code",
   "execution_count": 114,
   "id": "d688f8e5-0e5c-4191-b84e-614691e29c41",
   "metadata": {},
   "outputs": [
    {
     "data": {
      "text/plain": [
       "[<matplotlib.lines.Line2D at 0x28b70b7c310>]"
      ]
     },
     "execution_count": 114,
     "metadata": {},
     "output_type": "execute_result"
    },
    {
     "data": {
      "image/png": "[encoded data removed]",
      "text/plain": [
       "<Figure size 640x480 with 1 Axes>"
      ]
     },
     "metadata": {},
     "output_type": "display_data"
    }
   ],
   "source": [
    "plt.plot(t,vx)"
   ]
  },
  {
   "cell_type": "code",
   "execution_count": null,
   "id": "60e73ffd-89cd-4156-bfb5-baf04f6660c2",
   "metadata": {},
   "outputs": [],
   "source": []
  }
 ],
 "metadata": {
  "kernelspec": {
   "display_name": "Python 3 (ipykernel)",
   "language": "python",
   "name": "python3"
  },
  "language_info": {
   "codemirror_mode": {
    "name": "ipython",
    "version": 3
   },
   "file_extension": ".py",
   "mimetype": "text/x-python",
   "name": "python",
   "nbconvert_exporter": "python",
   "pygments_lexer": "ipython3",
   "version": "3.9.13"
  }
 },
 "nbformat": 4,
 "nbformat_minor": 5
}
