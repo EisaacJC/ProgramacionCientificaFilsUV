{
  "cells": [
    {
      "cell_type": "markdown",
      "metadata": {
        "id": "view-in-github",
        "colab_type": "text"
      },
      "source": [
        "<a href=\"https://colab.research.google.com/github/EisaacJC/ProgramacionCientificaFisUV/blob/main/clase/01_Clase_W3_Mar6.ipynb\" target=\"_parent\"><img src=\"https://colab.research.google.com/assets/colab-badge.svg\" alt=\"Open In Colab\"/></a>"
      ]
    },
    {
      "cell_type": "code",
      "source": [
        "#@title Completar los siguientes campos y evaluar la celda\n",
        "\n",
        "Titulo = 'Clase W3 Marzo 5-7' #@param {type:\"string\"}\n",
        "Nombre = 'Horacio' #@param {type:\"string\"}\n",
        "Matricula = 'htapia' #@param {type:\"string\"}\n",
        "Fecha = '2023-03-06' #@param {type:\"date\"}\n",
        "print(Titulo)\n",
        "print(Nombre)\n",
        "print(Matricula)\n",
        "print(Fecha)"
      ],
      "metadata": {
        "cellView": "form",
        "id": "6aPWXpjYzLP6",
        "outputId": "b71248a7-426c-4426-d743-7d328a9cbc57",
        "colab": {
          "base_uri": "https://localhost:8080/"
        }
      },
      "id": "6aPWXpjYzLP6",
      "execution_count": 1,
      "outputs": [
        {
          "output_type": "stream",
          "name": "stdout",
          "text": [
            "Clase W3 Marzo 5-7\n",
            "Horacio\n",
            "htapia\n",
            "2023-03-06\n"
          ]
        }
      ]
    },
    {
      "cell_type": "markdown",
      "id": "d445df86-e4e9-493c-9ba4-12c6a27fa817",
      "metadata": {
        "tags": [],
        "id": "d445df86-e4e9-493c-9ba4-12c6a27fa817"
      },
      "source": [
        "## Sistema de estudio. \n",
        "### Descripcion general del sistema. \n",
        "Errores en general pueden ser de los siguientes tipos:\n",
        "- Torpeza o mala teoria\n",
        "- Aleatorios\n",
        "- Aproximacion\n",
        "- Redondeo\n",
        "\n",
        "Nos vamos a enfocar en los dos ultimos "
      ]
    },
    {
      "cell_type": "markdown",
      "source": [
        "## Aproximaciones\n",
        "\n",
        "Cuando debemos de realizar alguna simplificacion a las matematicas de modo que podamos resolver el problema en la computadora. Por ejemplo si necesitamos reemplazar series infinitas por una suma finita:\n",
        "\n",
        "$$ d_n = a + ar + ar^2 + \\cdots +ar^n = \\frac{a}{1-r}(1-r^n)$$\n",
        "\n",
        "si $|r|<1$ decimos que la serie converge al valor $$\\frac{a}{1-r}.$$ Si queremos determinar esto haciendo la suma de terminos finitos, por ejemplo"
      ],
      "metadata": {
        "id": "-F8rpBW4DLfj"
      },
      "id": "-F8rpBW4DLfj"
    },
    {
      "cell_type": "code",
      "source": [
        "r=0.8\n",
        "a=20\n",
        "print(a/(1-r))\n",
        "# Este caso particular es \"simple\" porque la razon a/(1-r) es un numero entero, es decir a y (1-r) son divisibles asi que la convergencia es trivial\n",
        "n=0\n",
        "sum=0\n",
        "while(n<100):\n",
        "  n += 1\n",
        "  sum += a\n",
        "  a *= r\n",
        "print(sum)"
      ],
      "metadata": {
        "id": "I6UJ31ywERyi",
        "outputId": "80266354-d001-46d7-b60b-b01a0c9ab2d8",
        "colab": {
          "base_uri": "https://localhost:8080/"
        }
      },
      "id": "I6UJ31ywERyi",
      "execution_count": 10,
      "outputs": [
        {
          "output_type": "stream",
          "name": "stdout",
          "text": [
            "100.00000000000003\n",
            "99.99999997962966\n"
          ]
        }
      ]
    },
    {
      "cell_type": "code",
      "source": [
        "# cambiemos un poco los valores de a y r de modo que la razon ya no sea conmesurable\n",
        "r=0.9\n",
        "a=20\n",
        "print(a/(1-r))\n",
        "n=0\n",
        "sum=0\n",
        "while(n<10000):\n",
        "  n += 1\n",
        "  sum += a\n",
        "  a *= r\n",
        "print(sum)"
      ],
      "metadata": {
        "id": "EajRRnp2E6O_",
        "outputId": "4454a557-0763-4bfb-baa3-bd822c86ee0e",
        "colab": {
          "base_uri": "https://localhost:8080/"
        }
      },
      "id": "EajRRnp2E6O_",
      "execution_count": 22,
      "outputs": [
        {
          "output_type": "stream",
          "name": "stdout",
          "text": [
            "200.00000000000006\n",
            "199.99999999999966\n"
          ]
        }
      ]
    },
    {
      "cell_type": "markdown",
      "source": [
        "Noten como podemos escribir en general nuestra aproximacion como\n",
        "$$\n",
        "\\begin{align*}\n",
        "d &= \\sum_{n=0}^{\\infty} ar^n \\\\ \n",
        " &\\approx  \\sum_{n=0}^{N} ar^n \\textrm{(algoritmo)}\\\\ \n",
        " &= d + \\varepsilon(N) \n",
        "\\end{align*}\n",
        "$$\n",
        "\n",
        "donde $ɛ(N)$ es la serie desde el valor $N+1$ y hasta $\\infty$. Para cualquier aproximacion medianamente razonable, el error deberia disminuir conforme $N$ aumenta y debe hacerse cero cuando $N→\\infty$"
      ],
      "metadata": {
        "id": "Ng8GRNnUFeXQ"
      },
      "id": "Ng8GRNnUFeXQ"
    },
    {
      "cell_type": "code",
      "source": [
        "# podemos revisar esto con nuestro ejemplo calculando el error a partir del resultado exacto\n",
        "r=0.8\n",
        "a=20\n",
        "exact = a/(1-r)\n",
        "\n",
        "for N in [10, 50, 100, 500, 1000, 5000, 10000]:\n",
        "  a=20\n",
        "  sum=0\n",
        "  n=0\n",
        "  while(n<N):\n",
        "    n += 1\n",
        "    sum += a\n",
        "    a *= r\n",
        "  print(n, N,  exact, sum, abs(exact-sum))"
      ],
      "metadata": {
        "id": "AM3_QYeqHAJX",
        "outputId": "8764c4ee-32b6-4f44-8c5d-f4955f2977d4",
        "colab": {
          "base_uri": "https://localhost:8080/"
        }
      },
      "id": "AM3_QYeqHAJX",
      "execution_count": 28,
      "outputs": [
        {
          "output_type": "stream",
          "name": "stdout",
          "text": [
            "10 10 100.00000000000003 89.26258176 10.737418240000025\n",
            "50 50 100.00000000000003 99.99857275230733 0.001427247692703304\n",
            "100 100 100.00000000000003 99.99999997962966 2.0370364950395015e-08\n",
            "500 500 100.00000000000003 100.0 2.842170943040401e-14\n",
            "1000 1000 100.00000000000003 100.0 2.842170943040401e-14\n",
            "5000 5000 100.00000000000003 100.0 2.842170943040401e-14\n",
            "10000 10000 100.00000000000003 100.0 2.842170943040401e-14\n"
          ]
        }
      ]
    },
    {
      "cell_type": "code",
      "source": [
        "for N in [10, 50, 100, 500, 1000, 5000, 10000]:\n",
        "  a=20\n",
        "  sum=0\n",
        "  n=0\n",
        "  while(n<N):\n",
        "    n += 1\n",
        "    sum += a\n",
        "    a *= r\n",
        "  print([N,abs(exact-sum)])"
      ],
      "metadata": {
        "id": "JvMzH0KIHciB",
        "outputId": "50537553-f286-4f25-e0b7-7b03b153c9b3",
        "colab": {
          "base_uri": "https://localhost:8080/"
        }
      },
      "id": "JvMzH0KIHciB",
      "execution_count": 33,
      "outputs": [
        {
          "output_type": "stream",
          "name": "stdout",
          "text": [
            "[10, 10.737418240000025]\n",
            "[50, 0.001427247692703304]\n",
            "[100, 2.0370364950395015e-08]\n",
            "[500, 2.842170943040401e-14]\n",
            "[1000, 2.842170943040401e-14]\n",
            "[5000, 2.842170943040401e-14]\n",
            "[10000, 2.842170943040401e-14]\n"
          ]
        }
      ]
    },
    {
      "cell_type": "code",
      "source": [
        "def suma(a,r,N):\n",
        "  assert abs(r)<1\n",
        "  exact = a/(1-r)\n",
        "  sum=0\n",
        "  n=0\n",
        "  while(n<N):\n",
        "    n += 1\n",
        "    sum += a\n",
        "    a *= r\n",
        "  return abs(exact - sum)"
      ],
      "metadata": {
        "id": "4Z6zqBnOJOCe"
      },
      "id": "4Z6zqBnOJOCe",
      "execution_count": 51,
      "outputs": []
    },
    {
      "cell_type": "code",
      "source": [
        "a=20\n",
        "r=0.9\n",
        "suma(a, r, 100)"
      ],
      "metadata": {
        "id": "J8QCKFpSJnVd",
        "outputId": "b220e997-34d4-4e56-b4e2-c019e7f133e0",
        "colab": {
          "base_uri": "https://localhost:8080/"
        }
      },
      "id": "J8QCKFpSJnVd",
      "execution_count": 52,
      "outputs": [
        {
          "output_type": "execute_result",
          "data": {
            "text/plain": [
              "0.005312279777768936"
            ]
          },
          "metadata": {},
          "execution_count": 52
        }
      ]
    },
    {
      "cell_type": "code",
      "source": [
        "error_data = [suma(a, r, N) for N in [10, 50, 100, 500, 1000, 5000, 10000]]\n",
        "\n",
        "error_data"
      ],
      "metadata": {
        "id": "wO9FuOFjJ0fU",
        "outputId": "1375b5ca-44a1-4de3-9936-ef9fa5eb707a",
        "colab": {
          "base_uri": "https://localhost:8080/"
        }
      },
      "id": "wO9FuOFjJ0fU",
      "execution_count": 54,
      "outputs": [
        {
          "output_type": "execute_result",
          "data": {
            "text/plain": [
              "[69.73568802000005,\n",
              " 1.0307550414641469,\n",
              " 0.005312279777768936,\n",
              " 3.979039320256561e-13,\n",
              " 3.979039320256561e-13,\n",
              " 3.979039320256561e-13,\n",
              " 3.979039320256561e-13]"
            ]
          },
          "metadata": {},
          "execution_count": 54
        }
      ]
    },
    {
      "cell_type": "code",
      "source": [
        "import matplotlib.pyplot as plt\n",
        "N = [10, 50, 100, 500, 1000, 5000, 10000]\n",
        "plt.plot(N, error_data , 'o', color='black');"
      ],
      "metadata": {
        "id": "ADxeNVraKACq",
        "outputId": "47c59051-30aa-43e7-a629-c82a8ac5b531",
        "colab": {
          "base_uri": "https://localhost:8080/",
          "height": 265
        }
      },
      "id": "ADxeNVraKACq",
      "execution_count": 55,
      "outputs": [
        {
          "output_type": "display_data",
          "data": {
            "text/plain": [
              "<Figure size 432x288 with 1 Axes>"
            ],
            "image/png": "[encoded data removed]"
          },
          "metadata": {
            "needs_background": "light"
          }
        }
      ]
    },
    {
      "cell_type": "markdown",
      "source": [
        "## Redondeo\n",
        "\n",
        "Estos errores son analogos a los errores que cometemos cuando hacemos mediciones y se deben a el numero finito de digitos que podemos usar para representar valore reales en las computadoras. \n",
        "\n",
        "Tarea:\n",
        "\n",
        "Escriban un programa que calcule las dos soluciones a la ecuacion cuadratica \n",
        "$$ ax^2+bx+c=0$$\n",
        "de acuerdo a cada una de las siguientes maneras de calcularlas:\n",
        "\n",
        "1. $$ x_{1,2}=\\frac{-b\\pm\\sqrt{b^2-4ac}}{2a} $$\n",
        "\n",
        "2. $$ x_{1,2}=\\frac{-2c}{b\\pm\\sqrt{b^2-4ac}} $$\n",
        "\n",
        "Prueben su programa con el siguiente caso ilustrativo: $a=1,b=1,c=10^n,n=1,2,3...$\n",
        "\n"
      ],
      "metadata": {
        "id": "R1wBOH4kLK0S"
      },
      "id": "R1wBOH4kLK0S"
    },
    {
      "cell_type": "code",
      "source": [
        "print( 2*(1/3)-2/3 )"
      ],
      "metadata": {
        "id": "sTu0j6K5Lcx2",
        "outputId": "3aa3d00d-22a7-4543-990a-e527f749f372",
        "colab": {
          "base_uri": "https://localhost:8080/"
        }
      },
      "id": "sTu0j6K5Lcx2",
      "execution_count": 58,
      "outputs": [
        {
          "output_type": "stream",
          "name": "stdout",
          "text": [
            "0.0\n"
          ]
        }
      ]
    },
    {
      "cell_type": "markdown",
      "id": "9828689e-edef-4ec0-954c-cf96786e4dd5",
      "metadata": {
        "id": "9828689e-edef-4ec0-954c-cf96786e4dd5"
      },
      "source": [
        "## Metodo numerico\n",
        "### Descripcion de la implementacion"
      ]
    },
    {
      "cell_type": "markdown",
      "id": "93b790c3-0cc2-469a-91dd-3e4fddda9009",
      "metadata": {
        "id": "93b790c3-0cc2-469a-91dd-3e4fddda9009"
      },
      "source": [
        "## Listado de codigo\n",
        "### Incluir el codigo que se esta generando"
      ]
    },
    {
      "cell_type": "markdown",
      "id": "c2f0247e-0431-4f3a-9fd5-51d9c521a2de",
      "metadata": {
        "id": "c2f0247e-0431-4f3a-9fd5-51d9c521a2de"
      },
      "source": [
        "## Visualizacion de los resultados\n",
        "### Incluir imagenes, graficas y demas recursos de visualizacion "
      ]
    },
    {
      "cell_type": "code",
      "source": [
        "#@title Visual Python snippet\n",
        "%%html\n",
        "\n",
        "<iframe src=\"https://trinket.io/embed/glowscript/5bb30d8841?toggleCode=true\" width=\"100%\" height=\"600\" frameborder=\"0\" marginwidth=\"0\" marginheight=\"0\" allowfullscreen></iframe>\n"
      ],
      "metadata": {
        "id": "vxi76WVJzLL8",
        "outputId": "b30ad7c6-9f86-42e6-c80c-cbfe3316a577",
        "colab": {
          "base_uri": "https://localhost:8080/",
          "height": 621
        }
      },
      "id": "vxi76WVJzLL8",
      "execution_count": null,
      "outputs": [
        {
          "output_type": "display_data",
          "data": {
            "text/plain": [
              "<IPython.core.display.HTML object>"
            ],
            "text/html": [
              "\n",
              "<iframe src=\"https://trinket.io/embed/glowscript/5bb30d8841?toggleCode=true\" width=\"100%\" height=\"600\" frameborder=\"0\" marginwidth=\"0\" marginheight=\"0\" allowfullscreen></iframe>\n"
            ]
          },
          "metadata": {}
        }
      ]
    },
    {
      "cell_type": "code",
      "source": [
        "Web VPython 3.2\n",
        "\n",
        "# initialize wave function , probability , potential\n",
        "dx = 0.04; \n",
        "dx2 = dx*dx; \n",
        "k0 = 5.5*pi; \n",
        "dt = dx2/20.0; \n",
        "xmax = 6.0\n",
        "xs = arange(-xmax,xmax+dx/2,dx) # array of x positions\n",
        "  \n",
        "    \n",
        "g=display(width=500,height=250,title=\"Wave Packet in HO Potential\")\n",
        "PlotObj= curve(x=xs , color=color.yellow , radius =0.1) \n",
        "g.center = (0 ,2 ,0) \n",
        "\n",
        "psr = exp(−0.5*(xs/0.5)**2) * cos(k0*xs) \n",
        "psi = exp(−0.5*(xs/0.5)**2) * sin(k0*xs) \n",
        "v = 15.0*xs**2\n",
        "#t=0\n",
        "# while t < 0.85: \n",
        "while True :\n",
        "  rate(500)\n",
        "  psr[1:-1] = psr[1:-1]-(dt/dx2)*(psi[2:]+psi[:-2]-2*psi[1:-1]) + dt*v[1:-1]*psi[1:-1]\n",
        "  psi[1:-1] = psi[1:-1]-(dt/dx2)*(psr[2:]+psr[:-2]-2*psr[1:-1]) + dt*v[1:-1]*psr[1:-1]\n",
        "  PlotObj.y = 4*(psr**2 + psi**2)\n",
        "  \n",
        "    \n",
        "   "
      ],
      "metadata": {
        "id": "FMmGeW1cvPS8"
      },
      "id": "FMmGeW1cvPS8",
      "execution_count": null,
      "outputs": []
    },
    {
      "cell_type": "markdown",
      "id": "f1235d1b-c0a3-47fd-ae15-f48236c42c8a",
      "metadata": {
        "tags": [],
        "id": "f1235d1b-c0a3-47fd-ae15-f48236c42c8a"
      },
      "source": [
        "## Discusion\n",
        "### Incluir una discusion de los resultados obtenidos"
      ]
    },
    {
      "cell_type": "markdown",
      "id": "f01f46b3-4957-41ce-ae93-725923dac5c7",
      "metadata": {
        "tags": [],
        "id": "f01f46b3-4957-41ce-ae93-725923dac5c7"
      },
      "source": [
        "## Critica\n",
        "### Critica o comentarios sobre el metodo y las herramientas"
      ]
    }
  ],
  "metadata": {
    "kernelspec": {
      "display_name": "Python 3 (ipykernel)",
      "language": "python",
      "name": "python3"
    },
    "language_info": {
      "codemirror_mode": {
        "name": "ipython",
        "version": 3
      },
      "file_extension": ".py",
      "mimetype": "text/x-python",
      "name": "python",
      "nbconvert_exporter": "python",
      "pygments_lexer": "ipython3",
      "version": "3.9.13"
    },
    "colab": {
      "provenance": [],
      "include_colab_link": true
    }
  },
  "nbformat": 4,
  "nbformat_minor": 5
}