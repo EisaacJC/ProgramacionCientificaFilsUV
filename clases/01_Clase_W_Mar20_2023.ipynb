{
  "cells": [
    {
      "cell_type": "markdown",
      "metadata": {
        "id": "view-in-github",
        "colab_type": "text"
      },
      "source": [
        "<a href=\"https://colab.research.google.com/github/EisaacJC/ProgramacionCientificaFisUV/blob/main/clase/01_Clase_W_Mar20_2023.ipynb\" target=\"_parent\"><img src=\"https://colab.research.google.com/assets/colab-badge.svg\" alt=\"Open In Colab\"/></a>"
      ]
    },
    {
      "cell_type": "code",
      "execution_count": null,
      "id": "c0f95aa2",
      "metadata": {
        "id": "c0f95aa2",
        "outputId": "ddd35af2-16b9-42bf-c42f-3ef60676a9d0"
      },
      "outputs": [
        {
          "name": "stdout",
          "output_type": "stream",
          "text": [
            "Semana 27 feb, 2023\n",
            "htapia\n",
            "htapia\n",
            "2023-02-28\n"
          ]
        }
      ],
      "source": [
        "#@title Completar los siguientes campos y evaluar la celda\n",
        "\n",
        "Titulo = 'Semana 27 feb, 2023' #@param {type:\"string\"}\n",
        "Nombre = 'htapia' #@param {type:\"string\"}\n",
        "Matricula = 'htapia' #@param {type:\"string\"}\n",
        "Fecha = '2023-02-28' #@param {type:\"date\"}\n",
        "print(Titulo)\n",
        "print(Nombre)\n",
        "print(Matricula)\n",
        "print(Fecha)"
      ]
    },
    {
      "cell_type": "markdown",
      "id": "c1d9dc1b",
      "metadata": {
        "id": "c1d9dc1b"
      },
      "source": [
        "## Rebote de una pelota cayendo al suelo\n",
        "### Descripcion general del sistema. \n",
        "Hemos estudiado el movimiento de un objeto, una pelota, sujeta a la aceleracion debido a la gravedad cayendo verticalmente al suelo desde una altura determinada, a la cual llamamos $a$. Suponemos que en cada rebote la altura maxima que alcanza la pelota disminuye en un propocion $r$ de la altura anterior.\n",
        "\n",
        "Determinamos que la distancia recorrida por la pelota en cada rebote puede separarse en una distancia hacia abajo y una distancia hacia arriba, enfocandonos en la distancia recorrida mientras la pelota cae, la cual denotamos por $d_n$, donde $n$ corresponde al movimeinto depues del $n$-esimo rebote con el suelo. La distancia recorrida en caida la obtenemos sumando las siguientes cantidades:\n",
        "\n",
        "$$ d_k = a + a\\cdot r + a\\cdot r^2 + a\\cdot r^3 + \\cdots + a\\cdot r^k, $$\n",
        "\n",
        "y encontamos que la suma puede expresarse como $$ d_k=\\frac{a}{1-r}(1-r^k)$$ valida si $r\\neq 1$. En esta semana hemos desarrollado un par de algoritmos para calcular esta suma. Uno utiliza directamente esta expresion matematica, el otro utiliza un recursion."
      ]
    },
    {
      "cell_type": "markdown",
      "id": "2aa88ace",
      "metadata": {
        "id": "2aa88ace"
      },
      "source": [
        "## Metodo numerico\n",
        "### Descripcion de la implementacion\n",
        "\n",
        "El algoritmo A1 implementa la suma $$ d_k=\\frac{a}{1-r}(1-r^k)$$ y puede expresarse como sigue:\n",
        "\n",
        "\n",
        "```python\n",
        "def d1(n,a,r):\n",
        "    assert r!=1\n",
        "    return a*(1-r**n)/(1-r)\n",
        "``` \n",
        "\n",
        "El algoritmo A2 implementa la suma de manera recursiva:\n",
        "\n",
        "```python\n",
        "def d2(n,a,r):\n",
        "    k=0\n",
        "    sum=0\n",
        "    while(k<n):\n",
        "        sum = sum + a\n",
        "        a = a*r\n",
        "        k = k+1\n",
        "    return sum\n",
        "```"
      ]
    },
    {
      "cell_type": "markdown",
      "id": "5327c062",
      "metadata": {
        "id": "5327c062"
      },
      "source": [
        "## Listado de codigo\n",
        "### Incluir el codigo que se esta generando"
      ]
    },
    {
      "cell_type": "markdown",
      "id": "33378c81",
      "metadata": {
        "id": "33378c81"
      },
      "source": [
        "El algoritmo A1 lo implementamos de la siguiente forma:"
      ]
    },
    {
      "cell_type": "code",
      "execution_count": null,
      "id": "89645af7",
      "metadata": {
        "id": "89645af7",
        "outputId": "989eeba4-d470-4406-cb46-dcb3f4ea0716"
      },
      "outputs": [
        {
          "data": {
            "text/plain": [
              "89.26258176000002"
            ]
          },
          "execution_count": 34,
          "metadata": {},
          "output_type": "execute_result"
        }
      ],
      "source": [
        "def d1(n,a,r):\n",
        "    try:\n",
        "        assert r!=1, 'formula no valida para r=1'\n",
        "    except AssertionError:\n",
        "        print('formula no valida para r=1')\n",
        "        raise \n",
        "    return a*(1-r**n)/(1-r)\n",
        "\n",
        "a=20\n",
        "r=8/10\n",
        "n=10\n",
        "d1(n,a,r)"
      ]
    },
    {
      "cell_type": "markdown",
      "id": "d1d03c45",
      "metadata": {
        "id": "d1d03c45"
      },
      "source": [
        "El algoritmo A2 lo implementamos como sigue"
      ]
    },
    {
      "cell_type": "code",
      "execution_count": null,
      "id": "27c60637",
      "metadata": {
        "id": "27c60637",
        "outputId": "9ebb7942-6da2-48bf-ba45-4c2f4b61cfd7"
      },
      "outputs": [
        {
          "data": {
            "text/plain": [
              "89.26258176"
            ]
          },
          "execution_count": 26,
          "metadata": {},
          "output_type": "execute_result"
        }
      ],
      "source": [
        "def d2(n,a,r):\n",
        "    k=0\n",
        "    sum=0\n",
        "    while(k<n):\n",
        "        sum = sum + a\n",
        "        a = a*r\n",
        "        k = k+1\n",
        "    return sum\n",
        "a=20\n",
        "r=8/10\n",
        "n=10\n",
        "d2(n,a,r)"
      ]
    },
    {
      "cell_type": "code",
      "execution_count": null,
      "id": "8d7b059a",
      "metadata": {
        "id": "8d7b059a",
        "outputId": "e7060e14-9486-41b6-b573-dda9cd5509cc"
      },
      "outputs": [
        {
          "data": {
            "text/plain": [
              "[[10, 89.26258176000002, 89.26258176],\n",
              " [50, 99.99857275230731, 99.99857275230733],\n",
              " [100, 99.99999997962966, 99.99999997962966],\n",
              " [500, 100.00000000000003, 100.0],\n",
              " [1000, 100.00000000000003, 100.0]]"
            ]
          },
          "execution_count": 30,
          "metadata": {},
          "output_type": "execute_result"
        }
      ],
      "source": [
        "# print rows with the values\n",
        "a=20\n",
        "r=8/10\n",
        "[ [n, d1(n,a,r), d2(n,a,r)] for n in [10,50,100,500,1000] ]"
      ]
    },
    {
      "cell_type": "markdown",
      "id": "485e5219",
      "metadata": {
        "id": "485e5219"
      },
      "source": [
        "## Visualizacion de los resultados\n",
        "### Incluir imagenes, graficas y demas recursos de visualizacion \n",
        "\n",
        "En esta seccion vamos a completar el modelo fisico de la pelota cayendo que comenzamos a trabajar hace una semana. El siguiente codigo modela la pelota cayendo desde una altura $a=20$ metros sujeto a una aceleracion constante $\\vec{a}=(0,-9.81,0)\\frac{m}{s^2}$. La simulacion calcula la trayectoria de la pelota por $t=5s$ en intervalos temporales (pasos de tiempo) de $dt=0.01s$. El suelo se supone esta localizado en el origen del sistema de coordenadas y esta representado por el plano azul en la simulacion. El siguiente codigo visualiza la trajectoria durante todo el intervalo temporal. Noten como la pelota pasa por encima del plano que representa el suelo. Necesitamos modificar el codigo para tomar en cuanta la presencia del piso y actuar cuando se encuentre. \n",
        "\n",
        "```python\n",
        "scene = canvas(title='''Introduccion a la simulacion de objetos fisicos.\n",
        "Masa en movimiento: aceleracion constante''')\n",
        "scene.background=color.black\n",
        "\n",
        "a=20 # metros\n",
        "masa = sphere(pos=vector(0,a,0), radius=1., color=color.green)\n",
        "piso = box(pos=vector(0,0,0),size=vector(14,0.2,4),color=color.blue)\n",
        "\n",
        "t=0\n",
        "dt=0.1\n",
        "masa.a=vector(0,-9.81,0) # aceleracion constante en direccion vertical en unidades de m/s^2\n",
        "masa.v=vector(0,0,0)\n",
        "\n",
        "while(t<5):\n",
        "    rate(100)\n",
        "    # update velocity\n",
        "    masa.v = masa.v + masa.a*dt\n",
        "    # update position\n",
        "    masa.pos = masa.pos + masa.v*dt\n",
        "    # update time\n",
        "    t = t+dt\n",
        "```"
      ]
    },
    {
      "cell_type": "code",
      "execution_count": null,
      "id": "6391608d",
      "metadata": {
        "id": "6391608d",
        "outputId": "e9f73c3a-bdfe-493b-fae7-d224b755c74a"
      },
      "outputs": [
        {
          "data": {
            "text/html": [
              "\n",
              "<iframe src=\"https://trinket.io/embed/glowscript/5bb30d8841?toggleCode=true\" width=\"100%\" height=\"600\" frameborder=\"0\" marginwidth=\"0\" marginheight=\"0\" allowfullscreen></iframe>\n"
            ],
            "text/plain": [
              "<IPython.core.display.HTML object>"
            ]
          },
          "metadata": {},
          "output_type": "display_data"
        }
      ],
      "source": [
        "%%html\n",
        "\n",
        "<iframe src=\"https://trinket.io/embed/glowscript/5bb30d8841?toggleCode=true\" width=\"100%\" height=\"600\" frameborder=\"0\" marginwidth=\"0\" marginheight=\"0\" allowfullscreen></iframe>\n"
      ]
    },
    {
      "cell_type": "code",
      "execution_count": null,
      "id": "a6673ac7-cd5a-487f-aff0-c6fdd5cce786",
      "metadata": {
        "id": "a6673ac7-cd5a-487f-aff0-c6fdd5cce786",
        "outputId": "ba9aeafe-c307-4508-88c5-c243408d66f8"
      },
      "outputs": [
        {
          "data": {
            "text/html": [
              "<div id=\"glowscript\" class=\"glowscript\"></div>"
            ],
            "text/plain": [
              "<IPython.core.display.HTML object>"
            ]
          },
          "metadata": {},
          "output_type": "display_data"
        },
        {
          "data": {
            "application/javascript": [
              "if (typeof Jupyter !== \"undefined\") { window.__context = { glowscript_container: $(\"#glowscript\").removeAttr(\"id\")};}else{ element.textContent = ' ';}"
            ],
            "text/plain": [
              "<IPython.core.display.Javascript object>"
            ]
          },
          "metadata": {},
          "output_type": "display_data"
        },
        {
          "data": {
            "text/html": [
              "<div id=\"glowscript\" class=\"glowscript\"></div>"
            ],
            "text/plain": [
              "<IPython.core.display.HTML object>"
            ]
          },
          "metadata": {},
          "output_type": "display_data"
        },
        {
          "data": {
            "application/javascript": [
              "if (typeof Jupyter !== \"undefined\") { window.__context = { glowscript_container: $(\"#glowscript\").removeAttr(\"id\")};}else{ element.textContent = ' ';}"
            ],
            "text/plain": [
              "<IPython.core.display.Javascript object>"
            ]
          },
          "metadata": {},
          "output_type": "display_data"
        },
        {
          "data": {
            "application/javascript": [
              "if (typeof Jupyter !== \"undefined\") {require.undef(\"nbextensions/vpython_libraries/glow.min\");}else{element.textContent = ' ';}"
            ],
            "text/plain": [
              "<IPython.core.display.Javascript object>"
            ]
          },
          "metadata": {},
          "output_type": "display_data"
        },
        {
          "data": {
            "application/javascript": [
              "if (typeof Jupyter !== \"undefined\") {require.undef(\"nbextensions/vpython_libraries/glowcomm\");}else{element.textContent = ' ';}"
            ],
            "text/plain": [
              "<IPython.core.display.Javascript object>"
            ]
          },
          "metadata": {},
          "output_type": "display_data"
        },
        {
          "data": {
            "application/javascript": [
              "if (typeof Jupyter !== \"undefined\") {require.undef(\"nbextensions/vpython_libraries/jquery-ui.custom.min\");}else{element.textContent = ' ';}"
            ],
            "text/plain": [
              "<IPython.core.display.Javascript object>"
            ]
          },
          "metadata": {},
          "output_type": "display_data"
        },
        {
          "data": {
            "application/javascript": [
              "if (typeof Jupyter !== \"undefined\") {require([\"nbextensions/vpython_libraries/glow.min\"], function(){console.log(\"GLOW LOADED\");});}else{element.textContent = ' ';}"
            ],
            "text/plain": [
              "<IPython.core.display.Javascript object>"
            ]
          },
          "metadata": {},
          "output_type": "display_data"
        },
        {
          "data": {
            "application/javascript": [
              "if (typeof Jupyter !== \"undefined\") {require([\"nbextensions/vpython_libraries/glowcomm\"], function(){console.log(\"GLOWCOMM LOADED\");});}else{element.textContent = ' ';}"
            ],
            "text/plain": [
              "<IPython.core.display.Javascript object>"
            ]
          },
          "metadata": {},
          "output_type": "display_data"
        },
        {
          "data": {
            "application/javascript": [
              "if (typeof Jupyter !== \"undefined\") {require([\"nbextensions/vpython_libraries/jquery-ui.custom.min\"], function(){console.log(\"JQUERY LOADED\");});}else{element.textContent = ' ';}"
            ],
            "text/plain": [
              "<IPython.core.display.Javascript object>"
            ]
          },
          "metadata": {},
          "output_type": "display_data"
        }
      ],
      "source": [
        "# codigo de vpython si lo tienen localmente instalado pueden ejecutarlo\n",
        "from vpython import *\n",
        "\n",
        "scene = canvas(title='''Introduccion a la simulacion de objetos fisicos.\n",
        "Masa en movimiento: aceleracion constante''')\n",
        "scene.background=color.black\n",
        "g1 = graph(xtitle='t[s]', ytitle='y[m]', width=500, height=150)\n",
        "fp = gcurve(color=color.blue)\n",
        "\n",
        "g2 = graph(xtitle='t[s]', ytitle='vy[m/s]', width=500, height=150)\n",
        "fv = gcurve(color=color.red)\n",
        "\n",
        "h = 20\n",
        "r = 0.5\n",
        "g = 9.81 \n",
        "tc = sqrt(2*h/g)\n",
        "masa = sphere(pos=vector(0,h,0), radius=r, color=color.yellow, make_trail=True, trail_type='points', interval=10, retain=10)\n",
        "piso = box(pos=vector(0,0-r,0),size=vector(14,0.2,4),color=color.white)\n",
        "\n",
        "t = 0\n",
        "dt = 0.01\n",
        "masa.a = vector(0,-g,0)\n",
        "masa.v = vector(0,0,0)\n",
        "masa.pos = masa.pos + masa.v*dt\n",
        "\n",
        "while(t<5*tc):\n",
        "    rate(100)\n",
        "    # check collision\n",
        "    if masa.pos.y < piso.pos.y + 0.5*masa.radius:\n",
        "      masa.v.y = -masa.v.y\n",
        "    # update velocity\n",
        "    masa.v = masa.v + masa.a*dt\n",
        "    # update position\n",
        "    masa.pos = masa.pos + masa.v*dt\n",
        "    # plot handle\n",
        "    fp.plot(t, masa.pos.y)\n",
        "    fv.plot(t, masa.v.y)\n",
        "    # update time\n",
        "    t = t+dt"
      ]
    },
    {
      "cell_type": "code",
      "source": [
        "Web VPython 3.2\n",
        "\n",
        "from vpython import *\n",
        "\n",
        "scene = canvas(title='''Introduccion a la simulacion de objetos fisicos.\n",
        "Masa en movimiento: aceleracion constante''')\n",
        "scene.background=color.black\n",
        "g1 = graph(xtitle='t[s]', ytitle='y[m]', width=500, height=150)\n",
        "fpy = gcurve(color=color.blue)\n",
        "\n",
        "g2 = graph(xtitle='t[s]', ytitle='vy[m/s]', width=500, height=150)\n",
        "fvy = gcurve(color=color.red)\n",
        "\n",
        "\n",
        "g3 = graph(xtitle='t[s]', ytitle='y[m]', width=500, height=150)\n",
        "fpx = gcurve(color=color.blue)\n",
        "\n",
        "g4 = graph(xtitle='t[s]', ytitle='vx[m/s]', width=500, height=150)\n",
        "fvx = gcurve(color=color.red)\n",
        "\n",
        "h = 20\n",
        "r = 0.5\n",
        "g = 9.81 \n",
        "tc = sqrt(2*h/g)\n",
        "masa = sphere(pos=vector(0,h,0), radius=r, color=color.yellow, make_trail=True, trail_type='points', interval=10, retain=10)\n",
        "piso = box(pos=vector(0,0-r,0),size=vector(14,0.2,4),color=color.white)\n",
        "\n",
        "t = 0\n",
        "dt = 0.01\n",
        "masa.a = vector(0,-g,0)\n",
        "masa.v = vector(5,0,0)\n",
        "masa.pos = masa.pos + masa.v*dt\n",
        "\n",
        "while(t<5*tc):\n",
        "    rate(100)\n",
        "    # check collision\n",
        "    if masa.pos.y < piso.pos.y + 0.5*masa.radius:\n",
        "      masa.v.y = -masa.v.y\n",
        "    # update velocity\n",
        "    masa.v = masa.v + masa.a*dt\n",
        "    # update position\n",
        "    masa.pos = masa.pos + masa.v*dt\n",
        "    # plot handle\n",
        "    fpy.plot(t, masa.pos.y)\n",
        "    fvy.plot(t, masa.v.y)\n",
        "    fpx.plot(t, masa.pos.x)\n",
        "    fvx.plot(t, masa.v.x)\n",
        "    # update time\n",
        "    t = t+dt"
      ],
      "metadata": {
        "id": "4BG7_Tyx2euS"
      },
      "id": "4BG7_Tyx2euS",
      "execution_count": null,
      "outputs": []
    },
    {
      "cell_type": "markdown",
      "id": "9cc2f87e",
      "metadata": {
        "id": "9cc2f87e"
      },
      "source": [
        "## Discusion\n",
        "### Incluir una discusion de los resultados obtenidos"
      ]
    },
    {
      "cell_type": "markdown",
      "id": "c16658be",
      "metadata": {
        "id": "c16658be"
      },
      "source": [
        "## Critica\n",
        "### Critica o comentarios sobre el metodo y las herramientas"
      ]
    },
    {
      "cell_type": "code",
      "execution_count": null,
      "id": "dbd45e7d",
      "metadata": {
        "id": "dbd45e7d"
      },
      "outputs": [],
      "source": []
    }
  ],
  "metadata": {
    "kernelspec": {
      "display_name": "Python 3 (ipykernel)",
      "language": "python",
      "name": "python3"
    },
    "language_info": {
      "codemirror_mode": {
        "name": "ipython",
        "version": 3
      },
      "file_extension": ".py",
      "mimetype": "text/x-python",
      "name": "python",
      "nbconvert_exporter": "python",
      "pygments_lexer": "ipython3",
      "version": "3.9.13"
    },
    "colab": {
      "provenance": [],
      "include_colab_link": true
    }
  },
  "nbformat": 4,
  "nbformat_minor": 5
}