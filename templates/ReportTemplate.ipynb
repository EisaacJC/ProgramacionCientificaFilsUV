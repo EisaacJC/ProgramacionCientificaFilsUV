{
 "cells": [
  {
   "cell_type": "code",
   "execution_count": 12,
   "id": "a81d395e-fec4-48d3-9f2c-6eb0215cffed",
   "metadata": {
    "jupyter": {
     "source_hidden": true
    },
    "tags": [
     "hide_cell"
    ]
   },
   "outputs": [
    {
     "data": {
      "text/markdown": [
       "# Titulo de reporte\n",
       "## Nombre completo\n",
       "### matricula\n"
      ],
      "text/plain": [
       "<IPython.core.display.Markdown object>"
      ]
     },
     "metadata": {},
     "output_type": "display_data"
    },
    {
     "name": "stdout",
     "output_type": "stream",
     "text": [
      "15/02/2023 12:43:48\n"
     ]
    }
   ],
   "source": [
    "str='''# Titulo de reporte\n",
    "## Nombre completo\n",
    "### matricula\n",
    "'''\n",
    "from IPython.display import display, Markdown\n",
    "from datetime import datetime\n",
    "now = datetime.now()\n",
    "\n",
    "display(Markdown(str))\n",
    "print(now.strftime(\"%d/%m/%Y %H:%M:%S\"))"
   ]
  },
  {
   "cell_type": "markdown",
   "id": "d445df86-e4e9-493c-9ba4-12c6a27fa817",
   "metadata": {
    "tags": []
   },
   "source": [
    "## Sistema de estudio. \n",
    "### Descripcion general del sistema. \n",
    "Incluir las ecuaciones que se estan resolviendo"
   ]
  },
  {
   "cell_type": "markdown",
   "id": "9828689e-edef-4ec0-954c-cf96786e4dd5",
   "metadata": {},
   "source": [
    "## Metodo numerico\n",
    "### Descripcion de la implementacion"
   ]
  },
  {
   "cell_type": "markdown",
   "id": "93b790c3-0cc2-469a-91dd-3e4fddda9009",
   "metadata": {},
   "source": [
    "## Listado de codigo\n",
    "### Incluir el codigo que se esta generando"
   ]
  },
  {
   "cell_type": "markdown",
   "id": "c2f0247e-0431-4f3a-9fd5-51d9c521a2de",
   "metadata": {},
   "source": [
    "## Visualizacion de los resultados\n",
    "### Incluir imagenes, graficas y demas recursos de visualizacion "
   ]
  },
  {
   "cell_type": "markdown",
   "id": "f1235d1b-c0a3-47fd-ae15-f48236c42c8a",
   "metadata": {
    "tags": []
   },
   "source": [
    "## Discusion\n",
    "### Incluir una discusion de los resultados obtenidos"
   ]
  },
  {
   "cell_type": "markdown",
   "id": "f01f46b3-4957-41ce-ae93-725923dac5c7",
   "metadata": {
    "tags": []
   },
   "source": [
    "## Critica\n",
    "### Critica o comentarios sobre el metodo y las herramientas"
   ]
  }
 ],
 "metadata": {
  "kernelspec": {
   "display_name": "Python 3 (ipykernel)",
   "language": "python",
   "name": "python3"
  },
  "language_info": {
   "codemirror_mode": {
    "name": "ipython",
    "version": 3
   },
   "file_extension": ".py",
   "mimetype": "text/x-python",
   "name": "python",
   "nbconvert_exporter": "python",
   "pygments_lexer": "ipython3",
   "version": "3.9.13"
  }
 },
 "nbformat": 4,
 "nbformat_minor": 5
}
