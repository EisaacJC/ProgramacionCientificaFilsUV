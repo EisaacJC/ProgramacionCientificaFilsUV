{
  "cells": [
    {
      "cell_type": "markdown",
      "metadata": {
        "id": "view-in-github",
        "colab_type": "text"
      },
      "source": [
        "<a href=\"https://colab.research.google.com/github/EisaacJC/ProgramacionCientificaFisUV/blob/main/templates/ReportTemplate.ipynb\" target=\"_parent\"><img src=\"https://colab.research.google.com/assets/colab-badge.svg\" alt=\"Open In Colab\"/></a>"
      ]
    },
    {
      "cell_type": "code",
      "source": [
        "#@title Completar los siguientes campos y evaluar la celda\n",
        "\n",
        "Titulo = 'Titulo del reporte' #@param {type:\"string\"}\n",
        "Nombre = 'Nombre completo' #@param {type:\"string\"}\n",
        "Matricula = 'Matricula' #@param {type:\"string\"}\n",
        "Fecha = '2023-02-27' #@param {type:\"date\"}\n",
        "print(Titulo)\n",
        "print(Nombre)\n",
        "print(Matricula)\n",
        "print(Fecha)"
      ],
      "metadata": {
        "cellView": "form",
        "id": "6aPWXpjYzLP6",
        "outputId": "213c3ef2-f322-4109-ef37-affee05c4db0",
        "colab": {
          "base_uri": "https://localhost:8080/"
        }
      },
      "id": "6aPWXpjYzLP6",
      "execution_count": null,
      "outputs": [
        {
          "output_type": "stream",
          "name": "stdout",
          "text": [
            "Titulo del reporte\n",
            "Nombre completo\n",
            "Matricula\n",
            "2023-02-27\n"
          ]
        }
      ]
    },
    {
      "cell_type": "markdown",
      "id": "d445df86-e4e9-493c-9ba4-12c6a27fa817",
      "metadata": {
        "tags": [],
        "id": "d445df86-e4e9-493c-9ba4-12c6a27fa817"
      },
      "source": [
        "## Sistema de estudio. \n",
        "### Descripcion general del sistema. \n",
        "Incluir las ecuaciones que se estan resolviendo"
      ]
    },
    {
      "cell_type": "markdown",
      "id": "9828689e-edef-4ec0-954c-cf96786e4dd5",
      "metadata": {
        "id": "9828689e-edef-4ec0-954c-cf96786e4dd5"
      },
      "source": [
        "## Metodo numerico\n",
        "### Descripcion de la implementacion"
      ]
    },
    {
      "cell_type": "markdown",
      "id": "93b790c3-0cc2-469a-91dd-3e4fddda9009",
      "metadata": {
        "id": "93b790c3-0cc2-469a-91dd-3e4fddda9009"
      },
      "source": [
        "## Listado de codigo\n",
        "### Incluir el codigo que se esta generando"
      ]
    },
    {
      "cell_type": "markdown",
      "id": "c2f0247e-0431-4f3a-9fd5-51d9c521a2de",
      "metadata": {
        "id": "c2f0247e-0431-4f3a-9fd5-51d9c521a2de"
      },
      "source": [
        "## Visualizacion de los resultados\n",
        "### Incluir imagenes, graficas y demas recursos de visualizacion "
      ]
    },
    {
      "cell_type": "code",
      "source": [
        "#@title Visual Python snippet\n",
        "%%html\n",
        "\n",
        "<iframe src=\"https://trinket.io/embed/glowscript/5bb30d8841?toggleCode=true\" width=\"100%\" height=\"600\" frameborder=\"0\" marginwidth=\"0\" marginheight=\"0\" allowfullscreen></iframe>\n"
      ],
      "metadata": {
        "id": "vxi76WVJzLL8",
        "outputId": "b30ad7c6-9f86-42e6-c80c-cbfe3316a577",
        "colab": {
          "base_uri": "https://localhost:8080/",
          "height": 621
        }
      },
      "id": "vxi76WVJzLL8",
      "execution_count": 1,
      "outputs": [
        {
          "output_type": "display_data",
          "data": {
            "text/plain": [
              "<IPython.core.display.HTML object>"
            ],
            "text/html": [
              "\n",
              "<iframe src=\"https://trinket.io/embed/glowscript/5bb30d8841?toggleCode=true\" width=\"100%\" height=\"600\" frameborder=\"0\" marginwidth=\"0\" marginheight=\"0\" allowfullscreen></iframe>\n"
            ]
          },
          "metadata": {}
        }
      ]
    },
    {
      "cell_type": "code",
      "source": [],
      "metadata": {
        "id": "FMmGeW1cvPS8"
      },
      "id": "FMmGeW1cvPS8",
      "execution_count": null,
      "outputs": []
    },
    {
      "cell_type": "markdown",
      "id": "f1235d1b-c0a3-47fd-ae15-f48236c42c8a",
      "metadata": {
        "tags": [],
        "id": "f1235d1b-c0a3-47fd-ae15-f48236c42c8a"
      },
      "source": [
        "## Discusion\n",
        "### Incluir una discusion de los resultados obtenidos"
      ]
    },
    {
      "cell_type": "markdown",
      "id": "f01f46b3-4957-41ce-ae93-725923dac5c7",
      "metadata": {
        "tags": [],
        "id": "f01f46b3-4957-41ce-ae93-725923dac5c7"
      },
      "source": [
        "## Critica\n",
        "### Critica o comentarios sobre el metodo y las herramientas"
      ]
    }
  ],
  "metadata": {
    "kernelspec": {
      "display_name": "Python 3 (ipykernel)",
      "language": "python",
      "name": "python3"
    },
    "language_info": {
      "codemirror_mode": {
        "name": "ipython",
        "version": 3
      },
      "file_extension": ".py",
      "mimetype": "text/x-python",
      "name": "python",
      "nbconvert_exporter": "python",
      "pygments_lexer": "ipython3",
      "version": "3.9.13"
    },
    "colab": {
      "provenance": [],
      "include_colab_link": true
    }
  },
  "nbformat": 4,
  "nbformat_minor": 5
}