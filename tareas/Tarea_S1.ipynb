{
 "cells": [
  {
   "cell_type": "markdown",
   "id": "925631e9",
   "metadata": {},
   "source": [
    "# Tarea Semana 1\n",
    "## 13-15 febrero 2023"
   ]
  },
  {
   "cell_type": "markdown",
   "id": "7119c411",
   "metadata": {},
   "source": [
    "&#9658; Realizar la actividad de la siguiente pagina [Actividad](./week1/01-VariablesAndLoops.html) en la que se describe como la computadora realiza una secuencia de calculos y una recursion con el lenguaje de programacion Python.\n",
    "\n",
    "&#9658; Realizar las actividades de programacion indicadas en las siguientes libretas:\n",
    "\n",
    " * &#9719;[Basicos de programacion en Python](../taller/00_ProgrammingBasics.ipynb)\n",
    " * &#9718;[Introduccion a vectores con Python](../taller/01_Vectores.ipynb)\n",
    " * &#9717;[Introduccion a los objetos de VPython](../taller/02_Intro_objetos.ipynb)\n",
    "\n",
    "&#9658; Partiendo de la definicion de la velocidad y de la aceleracion como la derivada con respecto al tiempo del vector de desplazamiento y de la velocidad respectivamente, \n",
    "\n",
    "$$\\vec{v}=\\lim_{\\Delta t \\rightarrow 0} \\frac{\\vec{r}(t+\\Delta t)-\\vec{r}(t)}{\\Delta t}$$\n",
    "$$\\vec{a}=\\lim_{\\Delta t \\rightarrow 0} \\frac{\\vec{v}(t+\\Delta t)-\\vec{v}(t)}{\\Delta t}$$\n",
    "\n",
    "y suponiendo un valor finito de $\\Delta t$ dado por $dt$, derivar las siguientes ecuaciones de aproximacion numericas para la velocidad y la posicion obtenidas a pasos discretos:\n",
    "\n",
    "$$ \\vec{v}_{t+dt} = \\vec{v}_{t} + \\vec{a}_{t}\\cdot dt$$\n",
    "$$ \\vec{r}_{t+dt} = \\vec{r}_{t} + \\vec{v}_{t}\\cdot dt$$\n",
    "\n",
    "Donde se entiende la equivalencia $$\\vec{u}_{t+dt}\\equiv\\vec{u}(t+dt)$$. En esta discretizacion, el tiempo tambien debe incrementarse de acuerdo a $$t = t+dt.$$\n",
    "\n",
    "&#9658; Modificar el codigo generado en clase para la particula en caida libre [enlace a libreta](\n",
    "\n",
    "    "
   ]
  }
 ],
 "metadata": {
  "kernelspec": {
   "display_name": "Python 3 (ipykernel)",
   "language": "python",
   "name": "python3"
  },
  "language_info": {
   "codemirror_mode": {
    "name": "ipython",
    "version": 3
   },
   "file_extension": ".py",
   "mimetype": "text/x-python",
   "name": "python",
   "nbconvert_exporter": "python",
   "pygments_lexer": "ipython3",
   "version": "3.9.13"
  }
 },
 "nbformat": 4,
 "nbformat_minor": 5
}
