{
  "cells": [
    {
      "cell_type": "markdown",
      "metadata": {
        "id": "view-in-github",
        "colab_type": "text"
      },
      "source": [
        "<a href=\"https://colab.research.google.com/github/EisaacJC/ProgramacionCientificaFisUV/blob/main/tareas/Tarea_S1.ipynb\" target=\"_parent\"><img src=\"https://colab.research.google.com/assets/colab-badge.svg\" alt=\"Open In Colab\"/></a>"
      ]
    },
    {
      "cell_type": "markdown",
      "id": "925631e9",
      "metadata": {
        "tags": [],
        "id": "925631e9"
      },
      "source": [
        "# Tarea Semana 1 (13-15 febrero 2023)\n",
        "## Fecha de entrega: 22 febrero 2023"
      ]
    },
    {
      "cell_type": "markdown",
      "id": "72049106-c2a5-4fc2-9420-f2bdb2aabab8",
      "metadata": {
        "id": "72049106-c2a5-4fc2-9420-f2bdb2aabab8"
      },
      "source": [
        "&#9658; Realizar la [actividad disponible en este enlace](https://colab.research.google.com/drive/1O7hlvJ9cFHMOoVcq7NeuB6KAi_3BljpO#scrollTo=w3yooyrVwAnD&line=1&uniqifier=1) en la que se describe como la computadora realiza una secuencia de calculos y una recursion con el lenguaje de programacion Python."
      ]
    },
    {
      "cell_type": "markdown",
      "id": "357778ed-0ca7-4ee4-94f5-4b1be4a5183a",
      "metadata": {
        "id": "357778ed-0ca7-4ee4-94f5-4b1be4a5183a"
      },
      "source": [
        "&#9658; Realizar las actividades de programacion indicadas en las siguientes libretas:\n",
        "\n",
        " * &#9719;[Basicos de programacion en Python](../taller/00_ProgrammingBasics.ipynb)\n",
        " * &#9718;[Introduccion a vectores con Python](../taller/01_Vectores.ipynb)\n",
        " * &#9717;[Introduccion a los objetos de VPython](../taller/02_Intro_objetos.ipynb)"
      ]
    },
    {
      "cell_type": "markdown",
      "id": "f09ad672-df7f-42a5-a4c0-b7af25d7242e",
      "metadata": {
        "id": "f09ad672-df7f-42a5-a4c0-b7af25d7242e"
      },
      "source": [
        "&#9658; Utiliza la plantilla disponible [en esta libreta](../templates/ReportTemplate.ipynb) para esta actividad (y para las tareas y/o reportes). Describe una forma para decirle a la computadora como calcular  el area de un circulo. \n",
        "- Que informacion se requiere para calcular el area de un circulo\n",
        "- Como se calcula el area de un circulo\n",
        "- Escribir un programa para que la computadora haga las operaciones y regrese el resultado\n",
        "\n",
        "Incluye al final de tu programa el siguiente segmento de codigo que imprime el resultado de las operaciones:\n",
        "```python\n",
        "print('Radio = ', radio)\n",
        "print('Circumferencia = ', circum)\n",
        "print('Area = ', area)\n",
        "```"
      ]
    },
    {
      "cell_type": "markdown",
      "id": "d96ab7ea-7309-440d-ae42-2d003b1ba543",
      "metadata": {
        "id": "d96ab7ea-7309-440d-ae42-2d003b1ba543"
      },
      "source": [
        "&#9658; Partiendo de la definicion de la velocidad y de la aceleracion como la derivada con respecto al tiempo del vector de desplazamiento y de la velocidad respectivamente, \n",
        "\n",
        "$$\\vec{v}=\\lim_{\\Delta t \\rightarrow 0} \\frac{\\vec{r}(t+\\Delta t)-\\vec{r}(t)}{\\Delta t}$$\n",
        "$$\\vec{a}=\\lim_{\\Delta t \\rightarrow 0} \\frac{\\vec{v}(t+\\Delta t)-\\vec{v}(t)}{\\Delta t}$$\n",
        "\n",
        "y suponiendo un valor finito de $\\Delta t$ dado por $dt$, derivar las siguientes ecuaciones de aproximacion numericas para la velocidad y la posicion obtenidas a pasos discretos:\n",
        "\n",
        "$$ \\vec{v}_{t+dt} = \\vec{v}_{t} + \\vec{a}_{t}\\cdot dt$$\n",
        "$$ \\vec{r}_{t+dt} = \\vec{r}_{t} + \\vec{v}_{t}\\cdot dt$$\n",
        "\n",
        "Donde se entiende la equivalencia $$\\vec{u}_{t+dt}\\equiv\\vec{u}(t+dt).$$ En esta discretizacion, el tiempo tambien debe incrementarse de acuerdo a $$t = t+dt.$$"
      ]
    },
    {
      "cell_type": "markdown",
      "id": "2fbb34df-e48a-472a-93bc-6d9277198438",
      "metadata": {
        "id": "2fbb34df-e48a-472a-93bc-6d9277198438"
      },
      "source": [
        "&#9658; Utiliza la plantilla disponible [en esta libreta](../templates/ReportTemplate.ipynb) para esta actividad. Modifica el codigo generado en clase para la particula en caida libre [enlace a libreta](../clases/01_Clase_W1Feb23.ipynb) para visualizar la trayectoria de una particula libre (es decir sobre la que no actua _ninguna_ fuerza) moviendose en direccion horizontal hasta encontrar una pared a una distancia. Utiliza el siguiente codigo como guia para iniciar (copialo y pegalo en una celda de codigo en la libreta de tu reporte):\n",
        "\n",
        "```python\n",
        "# from vpython import *\n",
        "ball = sphere(pos=vector(-5,0,0), radius=0.5, color=color.cyan)\n",
        "wallR = box(pos=vector(6,0,0), size=vector(0.2,12,12), color=color.green)\n",
        "```   "
      ]
    },
    {
      "cell_type": "code",
      "source": [
        "#@title Visual Python snippet\n",
        "%%html\n",
        "\n",
        "<iframe src=\"https://trinket.io/embed/glowscript/5bb30d8841?toggleCode=true\" width=\"100%\" height=\"600\" frameborder=\"0\" marginwidth=\"0\" marginheight=\"0\" allowfullscreen></iframe>\n"
      ],
      "metadata": {
        "id": "xDuklYvt-Zda",
        "outputId": "9896e83a-f7dd-4eb0-faa5-2a7fd6f2b8be",
        "colab": {
          "base_uri": "https://localhost:8080/",
          "height": 621
        }
      },
      "id": "xDuklYvt-Zda",
      "execution_count": 26,
      "outputs": [
        {
          "output_type": "display_data",
          "data": {
            "text/plain": [
              "<IPython.core.display.HTML object>"
            ],
            "text/html": [
              "\n",
              "<iframe src=\"https://trinket.io/embed/glowscript/5bb30d8841?toggleCode=true\" width=\"100%\" height=\"600\" frameborder=\"0\" marginwidth=\"0\" marginheight=\"0\" allowfullscreen></iframe>\n"
            ]
          },
          "metadata": {}
        }
      ]
    },
    {
      "cell_type": "code",
      "source": [],
      "metadata": {
        "id": "2DIOtCgO_xmg"
      },
      "id": "2DIOtCgO_xmg",
      "execution_count": null,
      "outputs": []
    }
  ],
  "metadata": {
    "kernelspec": {
      "display_name": "Python 3 (ipykernel)",
      "language": "python",
      "name": "python3"
    },
    "language_info": {
      "codemirror_mode": {
        "name": "ipython",
        "version": 3
      },
      "file_extension": ".py",
      "mimetype": "text/x-python",
      "name": "python",
      "nbconvert_exporter": "python",
      "pygments_lexer": "ipython3",
      "version": "3.9.13"
    },
    "colab": {
      "provenance": [],
      "include_colab_link": true
    }
  },
  "nbformat": 4,
  "nbformat_minor": 5
}