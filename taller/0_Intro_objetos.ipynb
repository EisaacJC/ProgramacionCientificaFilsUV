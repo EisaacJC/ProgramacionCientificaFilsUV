{
 "cells": [
  {
   "cell_type": "markdown",
   "id": "ae7b4bb2",
   "metadata": {},
   "source": [
    "# Introduccion a los objetos \n",
    "\n",
    "## Objetivos\n",
    "- Presentar los objetos geometricos y sus propiedades\n",
    "- Crear una animacion de una masa y un resorte moviendose en una direccion"
   ]
  },
  {
   "cell_type": "markdown",
   "id": "0891614c",
   "metadata": {},
   "source": [
    "## Objetos especificos\n",
    "El ambiente de VPython contiene una coleccion de objetos geometricos equivalente a la que conocemos ya:\n",
    "- esfera   : sphere\n",
    "- cubo     : box\n",
    "- cilindro : cylinder\n",
    "- etc.\n",
    "En esta liga exploren para conocer los aspectos  importantes comunes a los objetos 3D de la libreria. Aqui usaremos algunas de estas propiedades para definir un sistema basado en un objeto rectangular con masa pegado a un resorte."
   ]
  },
  {
   "cell_type": "code",
   "execution_count": 1,
   "id": "b2797fab",
   "metadata": {},
   "outputs": [
    {
     "data": {
      "text/html": [
       "<div id=\"glowscript\" class=\"glowscript\"></div>"
      ],
      "text/plain": [
       "<IPython.core.display.HTML object>"
      ]
     },
     "metadata": {},
     "output_type": "display_data"
    },
    {
     "data": {
      "application/javascript": [
       "if (typeof Jupyter !== \"undefined\") { window.__context = { glowscript_container: $(\"#glowscript\").removeAttr(\"id\")};}else{ element.textContent = ' ';}"
      ],
      "text/plain": [
       "<IPython.core.display.Javascript object>"
      ]
     },
     "metadata": {},
     "output_type": "display_data"
    }
   ],
   "source": [
    "from vpython import *"
   ]
  },
  {
   "cell_type": "code",
   "execution_count": 2,
   "id": "77b29ca0",
   "metadata": {},
   "outputs": [
    {
     "data": {
      "text/html": [
       "<div id=\"glowscript\" class=\"glowscript\"></div>"
      ],
      "text/plain": [
       "<IPython.core.display.HTML object>"
      ]
     },
     "metadata": {},
     "output_type": "display_data"
    },
    {
     "data": {
      "application/javascript": [
       "if (typeof Jupyter !== \"undefined\") { window.__context = { glowscript_container: $(\"#glowscript\").removeAttr(\"id\")};}else{ element.textContent = ' ';}"
      ],
      "text/plain": [
       "<IPython.core.display.Javascript object>"
      ]
     },
     "metadata": {},
     "output_type": "display_data"
    },
    {
     "data": {
      "application/javascript": [
       "if (typeof Jupyter !== \"undefined\") {require.undef(\"nbextensions/vpython_libraries/glow.min\");}else{element.textContent = ' ';}"
      ],
      "text/plain": [
       "<IPython.core.display.Javascript object>"
      ]
     },
     "metadata": {},
     "output_type": "display_data"
    },
    {
     "data": {
      "application/javascript": [
       "if (typeof Jupyter !== \"undefined\") {require.undef(\"nbextensions/vpython_libraries/glowcomm\");}else{element.textContent = ' ';}"
      ],
      "text/plain": [
       "<IPython.core.display.Javascript object>"
      ]
     },
     "metadata": {},
     "output_type": "display_data"
    },
    {
     "data": {
      "application/javascript": [
       "if (typeof Jupyter !== \"undefined\") {require.undef(\"nbextensions/vpython_libraries/jquery-ui.custom.min\");}else{element.textContent = ' ';}"
      ],
      "text/plain": [
       "<IPython.core.display.Javascript object>"
      ]
     },
     "metadata": {},
     "output_type": "display_data"
    },
    {
     "data": {
      "application/javascript": [
       "if (typeof Jupyter !== \"undefined\") {require([\"nbextensions/vpython_libraries/glow.min\"], function(){console.log(\"GLOW LOADED\");});}else{element.textContent = ' ';}"
      ],
      "text/plain": [
       "<IPython.core.display.Javascript object>"
      ]
     },
     "metadata": {},
     "output_type": "display_data"
    },
    {
     "data": {
      "application/javascript": [
       "if (typeof Jupyter !== \"undefined\") {require([\"nbextensions/vpython_libraries/glowcomm\"], function(){console.log(\"GLOWCOMM LOADED\");});}else{element.textContent = ' ';}"
      ],
      "text/plain": [
       "<IPython.core.display.Javascript object>"
      ]
     },
     "metadata": {},
     "output_type": "display_data"
    },
    {
     "data": {
      "application/javascript": [
       "if (typeof Jupyter !== \"undefined\") {require([\"nbextensions/vpython_libraries/jquery-ui.custom.min\"], function(){console.log(\"JQUERY LOADED\");});}else{element.textContent = ' ';}"
      ],
      "text/plain": [
       "<IPython.core.display.Javascript object>"
      ]
     },
     "metadata": {},
     "output_type": "display_data"
    }
   ],
   "source": [
    "scene = canvas(title='''Introduccion a objetos: `box`.\n",
    "Intenta modificar algunas de sus propiedades: \n",
    "color, pos, size, axis, length, height, width, etc. (ve la documentacion)''')\n",
    "peso  = box()#pos=vector(1,0,0), color=color.white)"
   ]
  },
  {
   "cell_type": "code",
   "execution_count": 3,
   "id": "c2a46ea2",
   "metadata": {},
   "outputs": [
    {
     "data": {
      "text/html": [
       "<div id=\"glowscript\" class=\"glowscript\"></div>"
      ],
      "text/plain": [
       "<IPython.core.display.HTML object>"
      ]
     },
     "metadata": {},
     "output_type": "display_data"
    },
    {
     "data": {
      "application/javascript": [
       "if (typeof Jupyter !== \"undefined\") { window.__context = { glowscript_container: $(\"#glowscript\").removeAttr(\"id\")};}else{ element.textContent = ' ';}"
      ],
      "text/plain": [
       "<IPython.core.display.Javascript object>"
      ]
     },
     "metadata": {},
     "output_type": "display_data"
    }
   ],
   "source": [
    "scene = canvas(title='''Introduccion a objetos: `box`.\n",
    "Intenta modificar algunas de sus propiedades: \n",
    "color, pos, size, axis, length, height, width, etc. (ve la documentacion)''')\n",
    "peso  = box(pos=vector(1,0,0), color=color.yellow)"
   ]
  },
  {
   "cell_type": "code",
   "execution_count": 4,
   "id": "23457b32",
   "metadata": {},
   "outputs": [],
   "source": [
    "peso.mass = 1. # unidades de masa 1. = 100 gramos"
   ]
  },
  {
   "cell_type": "code",
   "execution_count": 5,
   "id": "0a39adaf",
   "metadata": {},
   "outputs": [],
   "source": [
    "peso.amor = 43"
   ]
  },
  {
   "cell_type": "code",
   "execution_count": null,
   "id": "7235fead",
   "metadata": {},
   "outputs": [],
   "source": [
    "peso.pos"
   ]
  },
  {
   "cell_type": "code",
   "execution_count": null,
   "id": "e6db43e5",
   "metadata": {},
   "outputs": [],
   "source": [
    "peso  = box(pos=vector(1,0,0), color=color.red,velocity=vector(0,0,0))\n",
    "peso.velocity"
   ]
  },
  {
   "cell_type": "markdown",
   "id": "6348c5da",
   "metadata": {},
   "source": [
    "## Ejercicio: \n",
    "Las siguientes instrucciones permiten acceder a propiedades especificas relativas al objeto `peso` creado. Evalualas y trata de describir a que se refieren  (revisa la documentacion del [objeto box](https://www.glowscript.org/docs/VPythonDocs/box.html)) y ten presente el canvas."
   ]
  },
  {
   "cell_type": "code",
   "execution_count": 6,
   "id": "efce0a5f",
   "metadata": {},
   "outputs": [
    {
     "data": {
      "text/plain": [
       "<1, 0, 0>"
      ]
     },
     "execution_count": 6,
     "metadata": {},
     "output_type": "execute_result"
    }
   ],
   "source": [
    "peso.axis"
   ]
  },
  {
   "cell_type": "markdown",
   "id": "54020a34",
   "metadata": {},
   "source": [
    "kjdfhalsjkdfhlkajshdfljkqh"
   ]
  },
  {
   "cell_type": "code",
   "execution_count": null,
   "id": "9525095b",
   "metadata": {},
   "outputs": [],
   "source": [
    "peso.size"
   ]
  },
  {
   "cell_type": "code",
   "execution_count": null,
   "id": "453f8ae9",
   "metadata": {},
   "outputs": [],
   "source": [
    "peso.height"
   ]
  },
  {
   "cell_type": "code",
   "execution_count": null,
   "id": "9f1f2f7d",
   "metadata": {},
   "outputs": [],
   "source": [
    "peso.width"
   ]
  },
  {
   "cell_type": "code",
   "execution_count": null,
   "id": "1c43ca63",
   "metadata": {},
   "outputs": [],
   "source": [
    "peso.length"
   ]
  },
  {
   "cell_type": "code",
   "execution_count": null,
   "id": "e905cccc",
   "metadata": {},
   "outputs": [],
   "source": [
    "peso.up"
   ]
  },
  {
   "cell_type": "markdown",
   "id": "a63da134",
   "metadata": {},
   "source": [
    "El otro objeto que vamos a necesitar es el resorte. Para representarlo existe un objeto que se llama `helix`:"
   ]
  },
  {
   "cell_type": "code",
   "execution_count": null,
   "id": "0f9b86c3",
   "metadata": {},
   "outputs": [],
   "source": [
    "scene = canvas(title=\"Introduccion a objetos: `helix`\")\n",
    "resorte = helix()"
   ]
  },
  {
   "cell_type": "code",
   "execution_count": null,
   "id": "ed383e4c",
   "metadata": {},
   "outputs": [],
   "source": [
    "# default attribute values\n",
    "print(\"Position corresponding to one end of the object (0,0,0):\", resorte.pos)\n",
    "print(\"Direction from `self.pos` to the other end of the object (1,0,0):\" ,resorte.axis)\n",
    "print(\"Length of axis (1.0):\", resorte.length)\n",
    "print(\"Default radius (1.0):\", resorte.radius)\n",
    "print(\"Default number of coils (5):\", resorte.coils)\n",
    "print(\"Default diameter of curves (radius/20):\", resorte.thickness)"
   ]
  },
  {
   "cell_type": "markdown",
   "id": "b08526cf",
   "metadata": {},
   "source": [
    "## Ejercicios\n",
    "- Evalua las siguientes instrucciones para ver los valores de los atributos `resorte.size` y `resorte.up` y describe y explica el significado de los valores obtenidos. [Utiliza la documentacion](https://www.glowscript.org/docs/VPythonDocs/cylinder.html). "
   ]
  },
  {
   "cell_type": "code",
   "execution_count": null,
   "id": "1bed5616",
   "metadata": {},
   "outputs": [],
   "source": [
    "print(resorte.size)\n",
    "print(resorte.up)"
   ]
  },
  {
   "cell_type": "markdown",
   "id": "3cb597ed",
   "metadata": {},
   "source": [
    "- Repite los pasos anteriores para otros objetos geometricos que estan disponibles. Explora sus propiedades visual y programaticamente. Apoyate de la documentacion."
   ]
  }
 ],
 "metadata": {
  "kernelspec": {
   "display_name": "Python 3 (ipykernel)",
   "language": "python",
   "name": "python3"
  },
  "language_info": {
   "codemirror_mode": {
    "name": "ipython",
    "version": 3
   },
   "file_extension": ".py",
   "mimetype": "text/x-python",
   "name": "python",
   "nbconvert_exporter": "python",
   "pygments_lexer": "ipython3",
   "version": "3.9.13"
  }
 },
 "nbformat": 4,
 "nbformat_minor": 5
}
