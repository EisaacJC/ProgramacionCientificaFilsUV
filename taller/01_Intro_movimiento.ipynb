{
 "cells": [
  {
   "cell_type": "markdown",
   "id": "039d4f61",
   "metadata": {},
   "source": [
    "## Movimiento\n",
    "\n",
    "- Consideramos movimiento al cambio en la posicion de un objeto en el tiempo. \n",
    " - Es decir si al tiempo $t=t_0$ el objeto esta en la posicion $r(t_0)=(12,0,0)$ y al tiempo $t=t_0+\\Delta t$ en la posicion $r(t_0+\\Delta t)=(11,0,0)$, decimos que el objeto se desplazo, cambio de posicion y se movio. \n",
    "- Las razones que causan el movimiento es parte fundamental del estudio de la Fisica, en particular de la mecanica. \n",
    "- El movimiento se debe a las interacciones entre cuerpos\n",
    "- A estas interacciones tambien se le conocen como fuerzas\n",
    "- Las fuerzas o interacciones causan que los objetos de aceleren\n",
    " - es decir que cambien su velocidad\n",
    "- Los cambios en velocidad implican o causan cambios en la posicion un objeto\n",
    " - es decir los objetos se mueven debido a las aceleraciones causadas por las interacciones\n",
    "\n",
    "$$ \\vec{a} = \\vec{F} /m $$"
   ]
  },
  {
   "cell_type": "code",
   "execution_count": 1,
   "id": "31821b69",
   "metadata": {},
   "outputs": [
    {
     "data": {
      "text/html": [
       "<div id=\"glowscript\" class=\"glowscript\"></div>"
      ],
      "text/plain": [
       "<IPython.core.display.HTML object>"
      ]
     },
     "metadata": {},
     "output_type": "display_data"
    },
    {
     "data": {
      "application/javascript": [
       "if (typeof Jupyter !== \"undefined\") { window.__context = { glowscript_container: $(\"#glowscript\").removeAttr(\"id\")};}else{ element.textContent = ' ';}"
      ],
      "text/plain": [
       "<IPython.core.display.Javascript object>"
      ]
     },
     "metadata": {},
     "output_type": "display_data"
    }
   ],
   "source": [
    "from vpython import *"
   ]
  },
  {
   "cell_type": "code",
   "execution_count": 2,
   "id": "257ca659",
   "metadata": {},
   "outputs": [
    {
     "data": {
      "text/html": [
       "<div id=\"glowscript\" class=\"glowscript\"></div>"
      ],
      "text/plain": [
       "<IPython.core.display.HTML object>"
      ]
     },
     "metadata": {},
     "output_type": "display_data"
    },
    {
     "data": {
      "application/javascript": [
       "if (typeof Jupyter !== \"undefined\") { window.__context = { glowscript_container: $(\"#glowscript\").removeAttr(\"id\")};}else{ element.textContent = ' ';}"
      ],
      "text/plain": [
       "<IPython.core.display.Javascript object>"
      ]
     },
     "metadata": {},
     "output_type": "display_data"
    },
    {
     "data": {
      "application/javascript": [
       "if (typeof Jupyter !== \"undefined\") {require.undef(\"nbextensions/vpython_libraries/glow.min\");}else{element.textContent = ' ';}"
      ],
      "text/plain": [
       "<IPython.core.display.Javascript object>"
      ]
     },
     "metadata": {},
     "output_type": "display_data"
    },
    {
     "data": {
      "application/javascript": [
       "if (typeof Jupyter !== \"undefined\") {require.undef(\"nbextensions/vpython_libraries/glowcomm\");}else{element.textContent = ' ';}"
      ],
      "text/plain": [
       "<IPython.core.display.Javascript object>"
      ]
     },
     "metadata": {},
     "output_type": "display_data"
    },
    {
     "data": {
      "application/javascript": [
       "if (typeof Jupyter !== \"undefined\") {require.undef(\"nbextensions/vpython_libraries/jquery-ui.custom.min\");}else{element.textContent = ' ';}"
      ],
      "text/plain": [
       "<IPython.core.display.Javascript object>"
      ]
     },
     "metadata": {},
     "output_type": "display_data"
    },
    {
     "data": {
      "application/javascript": [
       "if (typeof Jupyter !== \"undefined\") {require([\"nbextensions/vpython_libraries/glow.min\"], function(){console.log(\"GLOW LOADED\");});}else{element.textContent = ' ';}"
      ],
      "text/plain": [
       "<IPython.core.display.Javascript object>"
      ]
     },
     "metadata": {},
     "output_type": "display_data"
    },
    {
     "data": {
      "application/javascript": [
       "if (typeof Jupyter !== \"undefined\") {require([\"nbextensions/vpython_libraries/glowcomm\"], function(){console.log(\"GLOWCOMM LOADED\");});}else{element.textContent = ' ';}"
      ],
      "text/plain": [
       "<IPython.core.display.Javascript object>"
      ]
     },
     "metadata": {},
     "output_type": "display_data"
    },
    {
     "data": {
      "application/javascript": [
       "if (typeof Jupyter !== \"undefined\") {require([\"nbextensions/vpython_libraries/jquery-ui.custom.min\"], function(){console.log(\"JQUERY LOADED\");});}else{element.textContent = ' ';}"
      ],
      "text/plain": [
       "<IPython.core.display.Javascript object>"
      ]
     },
     "metadata": {},
     "output_type": "display_data"
    }
   ],
   "source": [
    "scene = canvas(title='''Introduccion a la simulacion de objetos fisicos.\n",
    "Masa en movimiento''')\n",
    "scene.background=color.black\n",
    "masa  = box(pos=vector(0,0,0), m=1., v=vector(0,0,0), color=color.orange)"
   ]
  },
  {
   "cell_type": "code",
   "execution_count": 3,
   "id": "b917a2ef",
   "metadata": {},
   "outputs": [
    {
     "data": {
      "text/html": [
       "<div id=\"glowscript\" class=\"glowscript\"></div>"
      ],
      "text/plain": [
       "<IPython.core.display.HTML object>"
      ]
     },
     "metadata": {},
     "output_type": "display_data"
    },
    {
     "data": {
      "application/javascript": [
       "if (typeof Jupyter !== \"undefined\") { window.__context = { glowscript_container: $(\"#glowscript\").removeAttr(\"id\")};}else{ element.textContent = ' ';}"
      ],
      "text/plain": [
       "<IPython.core.display.Javascript object>"
      ]
     },
     "metadata": {},
     "output_type": "display_data"
    }
   ],
   "source": [
    "scene = canvas(title='''Introduccion a la simulacion de objetos fisicos.\n",
    "Masa en movimiento''')\n",
    "scene.background=color.black\n",
    "masa  = box(pos=vector(0,0,0), m=1., v=vector(0,0,0), color=color.orange)\n",
    "resorte=helix()"
   ]
  },
  {
   "cell_type": "code",
   "execution_count": null,
   "id": "30a225ee",
   "metadata": {
    "scrolled": true
   },
   "outputs": [],
   "source": [
    "\n",
    "peso  = box(pos=vector(12,0,0), mass=1., v=vector(0,0,0), color=color.orange)\n",
    "# for viz purposes\n",
    "resorte = helix()\n",
    "resorte.radius = .5\n",
    "resorte.pos = vector(0,0,0)\n",
    "resorte.axis = peso.pos\n",
    "resorte.constant = 1.\n",
    "# resorte.coils = 5\n",
    "resorte.color = color.red\n",
    "\n",
    "# Visual ref: floor and wall \n",
    "wall=box(pos=vector(0,1,0),size=vector(0.2,3,2),color=color.blue)\n",
    "floor=box(pos=vector(6,-0.6,0),size=vector(14,0.2,4),color=color.blue)\n",
    "\n",
    "# plotting\n",
    "func = gcurve(color=color.cyan)"
   ]
  },
  {
   "cell_type": "code",
   "execution_count": null,
   "id": "e27711ff",
   "metadata": {},
   "outputs": [],
   "source": [
    "# initial conditions\n",
    "t=0\n",
    "dt = 0.01\n",
    "r_eq = vector(9,0,0)\n",
    "k = resorte.constant\n",
    "peso.v = vector(0,0,0)"
   ]
  },
  {
   "cell_type": "code",
   "execution_count": null,
   "id": "2164a92b",
   "metadata": {},
   "outputs": [],
   "source": [
    "while(t<50):\n",
    "    rate(100)\n",
    "    F = -k*(peso.pos - r_eq)\n",
    "    a = F/peso.mass\n",
    "    peso.v = peso.v + a*dt\n",
    "    peso.pos = peso.pos + peso.v*dt\n",
    "    resorte.axis = peso.pos - resorte.pos\n",
    "    t = t + dt\n",
    "    # print(t,peso.pos.x)\n",
    "    func.plot(pos=(t,peso.pos.x))"
   ]
  }
 ],
 "metadata": {
  "kernelspec": {
   "display_name": "Python 3 (ipykernel)",
   "language": "python",
   "name": "python3"
  },
  "language_info": {
   "codemirror_mode": {
    "name": "ipython",
    "version": 3
   },
   "file_extension": ".py",
   "mimetype": "text/x-python",
   "name": "python",
   "nbconvert_exporter": "python",
   "pygments_lexer": "ipython3",
   "version": "3.9.13"
  }
 },
 "nbformat": 4,
 "nbformat_minor": 5
}
