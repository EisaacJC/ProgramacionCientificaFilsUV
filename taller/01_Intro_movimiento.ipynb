{
 "cells": [
  {
   "cell_type": "markdown",
   "id": "039d4f61",
   "metadata": {},
   "source": [
    "## Movimiento\n",
    "\n",
    "- Consideramos movimiento al cambio en la posicion de un objeto en el tiempo. \n",
    " - Es decir si al tiempo $t=t_0$ el objeto esta en la posicion $r(t_0)=(12,0,0)$ y al tiempo $t=t_0+\\Delta t$ en la posicion $r(t_0+\\Delta t)=(11,0,0)$, decimos que el objeto se desplazo, cambio de posicion y se movio. \n",
    "- Las razones que causan el movimiento es parte fundamental del estudio de la Fisica, en particular de la mecanica. \n",
    "- El movimiento se debe a las interacciones entre cuerpos\n",
    "- A estas interacciones tambien se le conocen como fuerzas\n",
    "- Las fuerzas o interacciones causan que los objetos de aceleren\n",
    " - es decir que cambien su velocidad\n",
    "- Los cambios en velocidad implican o causan cambios en la posicion un objeto\n",
    " - es decir los objetos se mueven debido a las aceleraciones causadas por las interacciones\n",
    "\n",
    "$$ \\vec{a} = \\vec{F} /m $$"
   ]
  },
  {
   "cell_type": "code",
   "execution_count": null,
   "id": "31821b69",
   "metadata": {},
   "outputs": [],
   "source": [
    "from vpython import *"
   ]
  },
  {
   "cell_type": "code",
   "execution_count": null,
   "id": "257ca659",
   "metadata": {},
   "outputs": [],
   "source": [
    "# update the scene\n",
    "scene = canvas(title='''Introduccion a la simulacion de objetos fisicos.\n",
    "Masa en movimiento a lo largo de la direccion horizontal''')\n",
    "scene.background=color.black\n",
    "masa = sphere(pos=vector(0,0,0), radius=1., color=color.green)\n",
    "# for viz purposes\n",
    "# Visual ref: floor and wall \n",
    "floor=box(pos=vector(0,-6,0),size=vector(14,0.2,4),color=color.blue)"
   ]
  },
  {
   "cell_type": "code",
   "execution_count": null,
   "id": "e27711ff",
   "metadata": {},
   "outputs": [],
   "source": [
    "# initial conditions\n",
    "t=0\n",
    "dt = 0.01\n",
    "a = vector(0,-9.81,0)\n",
    "masa.v = vector(0,0,0)"
   ]
  },
  {
   "cell_type": "markdown",
   "id": "76f68236-e19b-4e56-aeca-9650992db36f",
   "metadata": {},
   "source": [
    "La velocidad se actualiza de acuerdo a la relacion $$\\vec{v} = \\vec{v} + \\vec{a}*dt$$ donde $\\vec{v}$ es el vector velocidad del objeto. Esta ecuacion entre vectores debe leerse desde la perspectiva programatica como sigue: el lado izquierdo es el valor de la nueva velocidad que sera asignado de acuerdo a las operaciones indicadas en el lado derecho. No es una ecuacion (relacion) de equivalencia, sino una asignacion entre variables."
   ]
  },
  {
   "cell_type": "code",
   "execution_count": null,
   "id": "c7383b4a-f1c5-41ce-b718-ccfb0493c475",
   "metadata": {},
   "outputs": [],
   "source": [
    "# update velocity\n",
    "masa.v = masa.v + a*dt"
   ]
  },
  {
   "cell_type": "markdown",
   "id": "03b8d5ca-e769-4b58-87b9-f5cee60daca6",
   "metadata": {},
   "source": [
    "La nueva posicion se actualiza usando la nueva velocidad de acuerdo a la asignacion $$ \\vec{r} = \\vec{r} + \\vec{v}*dt. $$ Completa el codigo para que la posicion se actualice:"
   ]
  },
  {
   "cell_type": "code",
   "execution_count": null,
   "id": "d2b15e8f-138b-4edb-9a75-dc5b202ae2e7",
   "metadata": {},
   "outputs": [],
   "source": [
    "# update position\n",
    "masa.pos = "
   ]
  },
  {
   "cell_type": "markdown",
   "id": "37526f0e-3d12-4ca7-81a9-ab30b2b7112a",
   "metadata": {},
   "source": [
    "Finalmente debemos indicarle a la computadora que queremos repetir estas operaciones un numero de veces suficiente para que podamos observar el cambio en la posicion. Esto lo logramos con un bloque particular que nos permite generar la recursion: "
   ]
  },
  {
   "cell_type": "code",
   "execution_count": null,
   "id": "2164a92b",
   "metadata": {},
   "outputs": [],
   "source": [
    "while(t<50):\n",
    "    rate(100)\n",
    "    F = -k*(peso.pos - r_eq)\n",
    "    a = F/peso.mass\n",
    "    peso.v = peso.v + a*dt\n",
    "    peso.pos = peso.pos + peso.v*dt\n",
    "    resorte.axis = peso.pos - resorte.pos\n",
    "    t = t + dt\n",
    "    # print(t,peso.pos.x)\n",
    "    func.plot(pos=(t,peso.pos.x))"
   ]
  }
 ],
 "metadata": {
  "kernelspec": {
   "display_name": "Python 3 (ipykernel)",
   "language": "python",
   "name": "python3"
  },
  "language_info": {
   "codemirror_mode": {
    "name": "ipython",
    "version": 3
   },
   "file_extension": ".py",
   "mimetype": "text/x-python",
   "name": "python",
   "nbconvert_exporter": "python",
   "pygments_lexer": "ipython3",
   "version": "3.9.13"
  }
 },
 "nbformat": 4,
 "nbformat_minor": 5
}
