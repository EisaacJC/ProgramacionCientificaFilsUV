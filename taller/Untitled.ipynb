{
 "cells": [
  {
   "cell_type": "markdown",
   "id": "3b63c09e",
   "metadata": {},
   "source": [
    "# Introduccion a los objetos \n",
    "\n",
    "## Objetivos\n",
    "- Presentar los objetos geometricos y sus propiedades\n",
    "- Crear una animacion de una masa y un resorte moviendose en una direccion"
   ]
  },
  {
   "cell_type": "markdown",
   "id": "49fb19e5",
   "metadata": {},
   "source": [
    "### Objetos geometricos\n",
    "El ambiente de VPython contiene una coleccion de objetos geometricos equivalente a la que conocemos ya:\n",
    "- esfera   : sphere\n",
    "- cubo     : box\n",
    "- cilindro : cylinder\n",
    "- etc.\n",
    "En esta liga exploren para conocer los aspectos  importantes comunes a los objetos 3D de la libreria. Aqui usaremos algunas de estas propiedades para definir un sistema basado en un objeto rectangular con masa pegado a un resorte."
   ]
  },
  {
   "cell_type": "code",
   "execution_count": 1,
   "id": "037153a2",
   "metadata": {},
   "outputs": [
    {
     "data": {
      "text/html": [
       "<div id=\"glowscript\" class=\"glowscript\"></div>"
      ],
      "text/plain": [
       "<IPython.core.display.HTML object>"
      ]
     },
     "metadata": {},
     "output_type": "display_data"
    },
    {
     "data": {
      "application/javascript": [
       "if (typeof Jupyter !== \"undefined\") { window.__context = { glowscript_container: $(\"#glowscript\").removeAttr(\"id\")};}else{ element.textContent = ' ';}"
      ],
      "text/plain": [
       "<IPython.core.display.Javascript object>"
      ]
     },
     "metadata": {},
     "output_type": "display_data"
    }
   ],
   "source": [
    "from vpython import *"
   ]
  },
  {
   "cell_type": "code",
   "execution_count": 7,
   "id": "8849e65a",
   "metadata": {},
   "outputs": [
    {
     "data": {
      "text/html": [
       "<div id=\"glowscript\" class=\"glowscript\"></div>"
      ],
      "text/plain": [
       "<IPython.core.display.HTML object>"
      ]
     },
     "metadata": {},
     "output_type": "display_data"
    },
    {
     "data": {
      "application/javascript": [
       "if (typeof Jupyter !== \"undefined\") { window.__context = { glowscript_container: $(\"#glowscript\").removeAttr(\"id\")};}else{ element.textContent = ' ';}"
      ],
      "text/plain": [
       "<IPython.core.display.Javascript object>"
      ]
     },
     "metadata": {},
     "output_type": "display_data"
    }
   ],
   "source": [
    "scene = canvas(title=\n",
    "               '''Introduccion a objetos. Este es un cubo.\\n \n",
    "               Intenta modificar algunas de sus propiedades: size, axis, height, width, \\n\n",
    "               color and others (see the documentation <\\href=\"https://www.glowscript.org/docs/VPythonDocs/box.html\">)''')\n",
    "peso  = box(pos=vector(1,0,0), color=color.orange)"
   ]
  },
  {
   "cell_type": "code",
   "execution_count": null,
   "id": "678aeab0",
   "metadata": {},
   "outputs": [],
   "source": [
    "peso.mass = 1. # unidades de masa 1. = 100 gramos"
   ]
  },
  {
   "cell_type": "code",
   "execution_count": null,
   "id": "5f545787",
   "metadata": {},
   "outputs": [],
   "source": [
    "peso.pos"
   ]
  },
  {
   "cell_type": "code",
   "execution_count": null,
   "id": "eecdada6",
   "metadata": {},
   "outputs": [],
   "source": [
    "peso  = box(pos=vector(1,0,0), color=color.red,velocity=vector(0,0,0))\n",
    "peso.velocity"
   ]
  },
  {
   "cell_type": "markdown",
   "id": "52e11b96",
   "metadata": {},
   "source": [
    "Ejercicio: \n",
    "Las siguientes instrucciones permiten acceder a propiedaes especificas relativas al objeto `peso` creado. Evalualas y trata de describir a que se refieren (utiliza el canvas)"
   ]
  },
  {
   "cell_type": "raw",
   "id": "c524c151",
   "metadata": {},
   "source": [
    "peso.size"
   ]
  },
  {
   "cell_type": "code",
   "execution_count": null,
   "id": "414166d8",
   "metadata": {},
   "outputs": [],
   "source": [
    "peso.axis"
   ]
  },
  {
   "cell_type": "code",
   "execution_count": null,
   "id": "c862d389",
   "metadata": {},
   "outputs": [],
   "source": [
    "peso.size"
   ]
  },
  {
   "cell_type": "code",
   "execution_count": null,
   "id": "186cb694",
   "metadata": {},
   "outputs": [],
   "source": [
    "peso.height"
   ]
  },
  {
   "cell_type": "code",
   "execution_count": null,
   "id": "e619e7cb",
   "metadata": {},
   "outputs": [],
   "source": [
    "peso.width"
   ]
  },
  {
   "cell_type": "code",
   "execution_count": null,
   "id": "a5f68817",
   "metadata": {},
   "outputs": [],
   "source": [
    "peso.length"
   ]
  },
  {
   "cell_type": "code",
   "execution_count": null,
   "id": "b4e1ae59",
   "metadata": {},
   "outputs": [],
   "source": [
    "peso.up"
   ]
  },
  {
   "cell_type": "code",
   "execution_count": null,
   "id": "555da0d3",
   "metadata": {},
   "outputs": [],
   "source": []
  }
 ],
 "metadata": {
  "kernelspec": {
   "display_name": "Python 3 (ipykernel)",
   "language": "python",
   "name": "python3"
  },
  "language_info": {
   "codemirror_mode": {
    "name": "ipython",
    "version": 3
   },
   "file_extension": ".py",
   "mimetype": "text/x-python",
   "name": "python",
   "nbconvert_exporter": "python",
   "pygments_lexer": "ipython3",
   "version": "3.10.9"
  }
 },
 "nbformat": 4,
 "nbformat_minor": 5
}
